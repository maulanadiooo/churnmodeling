{
  "nbformat": 4,
  "nbformat_minor": 0,
  "metadata": {
    "colab": {
      "name": "Churn Modeling Team Ozon.ipynb",
      "provenance": [],
      "collapsed_sections": [],
      "toc_visible": true
    },
    "kernelspec": {
      "name": "python3",
      "display_name": "Python 3"
    },
    "language_info": {
      "name": "python"
    },
    "accelerator": "GPU"
  },
  "cells": [
    {
      "cell_type": "markdown",
      "metadata": {
        "id": "fOfe_YZ1h4RE"
      },
      "source": [
        "# **STAGE 1**"
      ]
    },
    {
      "cell_type": "markdown",
      "metadata": {
        "id": "y4gOno6Lh6pI"
      },
      "source": [
        "## Understanding The Dataset\n",
        "\n",
        "\n",
        "\n",
        "*   Dataset berisi kumpulan data tentang rincian pelanggan Bank yang mencerminkan fakta apakah pelanggan akan meninggalkan Bank ( menutup rekeningnya ) atau terus menjadi pelanggan.\n",
        "*   Dataset memperlihatkan 10000 data pelanggan dengan rentang umur 18 sampai 92 tahun.\n",
        "*   Rentang waktu pelanggan antara 1 sampai 10 tahun menggunakan Bank tersebut.\n",
        "*   Pelanggan berasal dari kota Perancis, Jerman dan Spanyol.\n",
        "*   Sebanyak 70% pelanggan adalah pengguna credit card dan sebanyak 51% pelanggan adalah Pelangan dengan kategori aktif."
      ]
    },
    {
      "cell_type": "markdown",
      "metadata": {
        "id": "A7UNF21hh8yU"
      },
      "source": [
        "# **STAGE 2**"
      ]
    },
    {
      "cell_type": "markdown",
      "metadata": {
        "id": "hh7Bt5pLh-T3"
      },
      "source": [
        "\n",
        "\n",
        "\n",
        "## Identify Which Activities Should be Done\n",
        "\n",
        "\n",
        "\n",
        "\n",
        "*   Melakukan eksplorasi data analisis dan Data Visualisasi.\n",
        "*   Melakukan Pra-Proses Data\n",
        "*   Membuat Model Machine Learning\n",
        "\n",
        "\n",
        "\n",
        "\n",
        "\n"
      ]
    },
    {
      "cell_type": "markdown",
      "metadata": {
        "id": "e2_J6_lIiG4c"
      },
      "source": [
        "# **STAGE 3**"
      ]
    },
    {
      "cell_type": "code",
      "metadata": {
        "id": "jwZ1mufqiNTZ",
        "colab": {
          "base_uri": "https://localhost:8080/"
        },
        "outputId": "bc847300-32a0-4ccf-cbd3-e6f06740ec1c"
      },
      "source": [
        "# Import All Libraries\n",
        "import pandas as pd\n",
        "import numpy as np\n",
        "import matplotlib.pyplot as plt \n",
        "import seaborn as sns\n",
        "from collections import Counter\n",
        "from sklearn.model_selection import train_test_split\n",
        "from imblearn.over_sampling import RandomOverSampler\n",
        "from sklearn.preprocessing import StandardScaler\n",
        "from sklearn.neighbors import KNeighborsClassifier\n",
        "from sklearn.tree import DecisionTreeClassifier\n",
        "from sklearn.ensemble import RandomForestClassifier\n",
        "import xgboost as xgb\n",
        "from sklearn.metrics import confusion_matrix\n",
        "import tensorflow as tf\n",
        "from sklearn import metrics"
      ],
      "execution_count": null,
      "outputs": [
        {
          "output_type": "stream",
          "name": "stderr",
          "text": [
            "/usr/local/lib/python3.7/dist-packages/sklearn/externals/six.py:31: FutureWarning: The module is deprecated in version 0.21 and will be removed in version 0.23 since we've dropped support for Python 2.7. Please rely on the official version of six (https://pypi.org/project/six/).\n",
            "  \"(https://pypi.org/project/six/).\", FutureWarning)\n",
            "/usr/local/lib/python3.7/dist-packages/sklearn/utils/deprecation.py:144: FutureWarning: The sklearn.neighbors.base module is  deprecated in version 0.22 and will be removed in version 0.24. The corresponding classes / functions should instead be imported from sklearn.neighbors. Anything that cannot be imported from sklearn.neighbors is now part of the private API.\n",
            "  warnings.warn(message, FutureWarning)\n"
          ]
        }
      ]
    },
    {
      "cell_type": "markdown",
      "metadata": {
        "id": "T0e6Mu8Bi1nn"
      },
      "source": [
        "## **Exploratory Data Analysis and Data Visualization**"
      ]
    },
    {
      "cell_type": "code",
      "metadata": {
        "id": "Rh4UEjfuWF0Z",
        "colab": {
          "base_uri": "https://localhost:8080/",
          "height": 223
        },
        "outputId": "8994b270-467c-4fbc-9751-089506dbb266"
      },
      "source": [
        "churn = pd.read_csv('https://raw.githubusercontent.com/maulanadiooo/digitalskola/main/Churn_Modelling.csv')\n",
        "churn.head()"
      ],
      "execution_count": null,
      "outputs": [
        {
          "output_type": "execute_result",
          "data": {
            "text/html": [
              "<div>\n",
              "<style scoped>\n",
              "    .dataframe tbody tr th:only-of-type {\n",
              "        vertical-align: middle;\n",
              "    }\n",
              "\n",
              "    .dataframe tbody tr th {\n",
              "        vertical-align: top;\n",
              "    }\n",
              "\n",
              "    .dataframe thead th {\n",
              "        text-align: right;\n",
              "    }\n",
              "</style>\n",
              "<table border=\"1\" class=\"dataframe\">\n",
              "  <thead>\n",
              "    <tr style=\"text-align: right;\">\n",
              "      <th></th>\n",
              "      <th>RowNumber</th>\n",
              "      <th>CustomerId</th>\n",
              "      <th>Surname</th>\n",
              "      <th>CreditScore</th>\n",
              "      <th>Geography</th>\n",
              "      <th>Gender</th>\n",
              "      <th>Age</th>\n",
              "      <th>Tenure</th>\n",
              "      <th>Balance</th>\n",
              "      <th>NumOfProducts</th>\n",
              "      <th>HasCrCard</th>\n",
              "      <th>IsActiveMember</th>\n",
              "      <th>EstimatedSalary</th>\n",
              "      <th>Exited</th>\n",
              "    </tr>\n",
              "  </thead>\n",
              "  <tbody>\n",
              "    <tr>\n",
              "      <th>0</th>\n",
              "      <td>1</td>\n",
              "      <td>15634602</td>\n",
              "      <td>Hargrave</td>\n",
              "      <td>619</td>\n",
              "      <td>France</td>\n",
              "      <td>Female</td>\n",
              "      <td>42</td>\n",
              "      <td>2</td>\n",
              "      <td>0.00</td>\n",
              "      <td>1</td>\n",
              "      <td>1</td>\n",
              "      <td>1</td>\n",
              "      <td>101348.88</td>\n",
              "      <td>1</td>\n",
              "    </tr>\n",
              "    <tr>\n",
              "      <th>1</th>\n",
              "      <td>2</td>\n",
              "      <td>15647311</td>\n",
              "      <td>Hill</td>\n",
              "      <td>608</td>\n",
              "      <td>Spain</td>\n",
              "      <td>Female</td>\n",
              "      <td>41</td>\n",
              "      <td>1</td>\n",
              "      <td>83807.86</td>\n",
              "      <td>1</td>\n",
              "      <td>0</td>\n",
              "      <td>1</td>\n",
              "      <td>112542.58</td>\n",
              "      <td>0</td>\n",
              "    </tr>\n",
              "    <tr>\n",
              "      <th>2</th>\n",
              "      <td>3</td>\n",
              "      <td>15619304</td>\n",
              "      <td>Onio</td>\n",
              "      <td>502</td>\n",
              "      <td>France</td>\n",
              "      <td>Female</td>\n",
              "      <td>42</td>\n",
              "      <td>8</td>\n",
              "      <td>159660.80</td>\n",
              "      <td>3</td>\n",
              "      <td>1</td>\n",
              "      <td>0</td>\n",
              "      <td>113931.57</td>\n",
              "      <td>1</td>\n",
              "    </tr>\n",
              "    <tr>\n",
              "      <th>3</th>\n",
              "      <td>4</td>\n",
              "      <td>15701354</td>\n",
              "      <td>Boni</td>\n",
              "      <td>699</td>\n",
              "      <td>France</td>\n",
              "      <td>Female</td>\n",
              "      <td>39</td>\n",
              "      <td>1</td>\n",
              "      <td>0.00</td>\n",
              "      <td>2</td>\n",
              "      <td>0</td>\n",
              "      <td>0</td>\n",
              "      <td>93826.63</td>\n",
              "      <td>0</td>\n",
              "    </tr>\n",
              "    <tr>\n",
              "      <th>4</th>\n",
              "      <td>5</td>\n",
              "      <td>15737888</td>\n",
              "      <td>Mitchell</td>\n",
              "      <td>850</td>\n",
              "      <td>Spain</td>\n",
              "      <td>Female</td>\n",
              "      <td>43</td>\n",
              "      <td>2</td>\n",
              "      <td>125510.82</td>\n",
              "      <td>1</td>\n",
              "      <td>1</td>\n",
              "      <td>1</td>\n",
              "      <td>79084.10</td>\n",
              "      <td>0</td>\n",
              "    </tr>\n",
              "  </tbody>\n",
              "</table>\n",
              "</div>"
            ],
            "text/plain": [
              "   RowNumber  CustomerId   Surname  ...  IsActiveMember EstimatedSalary Exited\n",
              "0          1    15634602  Hargrave  ...               1       101348.88      1\n",
              "1          2    15647311      Hill  ...               1       112542.58      0\n",
              "2          3    15619304      Onio  ...               0       113931.57      1\n",
              "3          4    15701354      Boni  ...               0        93826.63      0\n",
              "4          5    15737888  Mitchell  ...               1        79084.10      0\n",
              "\n",
              "[5 rows x 14 columns]"
            ]
          },
          "metadata": {},
          "execution_count": 2
        }
      ]
    },
    {
      "cell_type": "markdown",
      "metadata": {
        "id": "h4U5e13zRNeR"
      },
      "source": [
        ""
      ]
    },
    {
      "cell_type": "code",
      "metadata": {
        "colab": {
          "base_uri": "https://localhost:8080/"
        },
        "id": "Er4cx8J47yce",
        "outputId": "df44aba7-4156-4ad3-be32-af7da6c56bd4"
      },
      "source": [
        "churn.dtypes"
      ],
      "execution_count": null,
      "outputs": [
        {
          "output_type": "execute_result",
          "data": {
            "text/plain": [
              "RowNumber            int64\n",
              "CustomerId           int64\n",
              "Surname             object\n",
              "CreditScore          int64\n",
              "Geography           object\n",
              "Gender              object\n",
              "Age                  int64\n",
              "Tenure               int64\n",
              "Balance            float64\n",
              "NumOfProducts        int64\n",
              "HasCrCard            int64\n",
              "IsActiveMember       int64\n",
              "EstimatedSalary    float64\n",
              "Exited               int64\n",
              "dtype: object"
            ]
          },
          "metadata": {},
          "execution_count": 3
        }
      ]
    },
    {
      "cell_type": "code",
      "metadata": {
        "colab": {
          "base_uri": "https://localhost:8080/"
        },
        "id": "Y8Jlh0Eg71VB",
        "outputId": "44f42580-410a-4886-a722-ea4f63a1ca9e"
      },
      "source": [
        "print('Shape:',churn.shape)\n",
        "print('\\n Missing Value : \\n',churn.isna().sum())\n",
        "print('\\n Data Describe : \\n',churn.describe())"
      ],
      "execution_count": null,
      "outputs": [
        {
          "output_type": "stream",
          "name": "stdout",
          "text": [
            "Shape: (10000, 14)\n",
            "\n",
            " Missing Value : \n",
            " RowNumber          0\n",
            "CustomerId         0\n",
            "Surname            0\n",
            "CreditScore        0\n",
            "Geography          0\n",
            "Gender             0\n",
            "Age                0\n",
            "Tenure             0\n",
            "Balance            0\n",
            "NumOfProducts      0\n",
            "HasCrCard          0\n",
            "IsActiveMember     0\n",
            "EstimatedSalary    0\n",
            "Exited             0\n",
            "dtype: int64\n",
            "\n",
            " Data Describe : \n",
            "          RowNumber    CustomerId  ...  EstimatedSalary        Exited\n",
            "count  10000.00000  1.000000e+04  ...     10000.000000  10000.000000\n",
            "mean    5000.50000  1.569094e+07  ...    100090.239881      0.203700\n",
            "std     2886.89568  7.193619e+04  ...     57510.492818      0.402769\n",
            "min        1.00000  1.556570e+07  ...        11.580000      0.000000\n",
            "25%     2500.75000  1.562853e+07  ...     51002.110000      0.000000\n",
            "50%     5000.50000  1.569074e+07  ...    100193.915000      0.000000\n",
            "75%     7500.25000  1.575323e+07  ...    149388.247500      0.000000\n",
            "max    10000.00000  1.581569e+07  ...    199992.480000      1.000000\n",
            "\n",
            "[8 rows x 11 columns]\n"
          ]
        }
      ]
    },
    {
      "cell_type": "code",
      "metadata": {
        "colab": {
          "base_uri": "https://localhost:8080/",
          "height": 223
        },
        "id": "EimqmVeZnCJ_",
        "outputId": "2c504ce8-aca2-4a7b-d238-39eb048054b1"
      },
      "source": [
        "## Drop Duplicate Data\n",
        "churn.drop_duplicates(inplace= True)\n",
        "churn.head()"
      ],
      "execution_count": null,
      "outputs": [
        {
          "output_type": "execute_result",
          "data": {
            "text/html": [
              "<div>\n",
              "<style scoped>\n",
              "    .dataframe tbody tr th:only-of-type {\n",
              "        vertical-align: middle;\n",
              "    }\n",
              "\n",
              "    .dataframe tbody tr th {\n",
              "        vertical-align: top;\n",
              "    }\n",
              "\n",
              "    .dataframe thead th {\n",
              "        text-align: right;\n",
              "    }\n",
              "</style>\n",
              "<table border=\"1\" class=\"dataframe\">\n",
              "  <thead>\n",
              "    <tr style=\"text-align: right;\">\n",
              "      <th></th>\n",
              "      <th>RowNumber</th>\n",
              "      <th>CustomerId</th>\n",
              "      <th>Surname</th>\n",
              "      <th>CreditScore</th>\n",
              "      <th>Geography</th>\n",
              "      <th>Gender</th>\n",
              "      <th>Age</th>\n",
              "      <th>Tenure</th>\n",
              "      <th>Balance</th>\n",
              "      <th>NumOfProducts</th>\n",
              "      <th>HasCrCard</th>\n",
              "      <th>IsActiveMember</th>\n",
              "      <th>EstimatedSalary</th>\n",
              "      <th>Exited</th>\n",
              "    </tr>\n",
              "  </thead>\n",
              "  <tbody>\n",
              "    <tr>\n",
              "      <th>0</th>\n",
              "      <td>1</td>\n",
              "      <td>15634602</td>\n",
              "      <td>Hargrave</td>\n",
              "      <td>619</td>\n",
              "      <td>France</td>\n",
              "      <td>Female</td>\n",
              "      <td>42</td>\n",
              "      <td>2</td>\n",
              "      <td>0.00</td>\n",
              "      <td>1</td>\n",
              "      <td>1</td>\n",
              "      <td>1</td>\n",
              "      <td>101348.88</td>\n",
              "      <td>1</td>\n",
              "    </tr>\n",
              "    <tr>\n",
              "      <th>1</th>\n",
              "      <td>2</td>\n",
              "      <td>15647311</td>\n",
              "      <td>Hill</td>\n",
              "      <td>608</td>\n",
              "      <td>Spain</td>\n",
              "      <td>Female</td>\n",
              "      <td>41</td>\n",
              "      <td>1</td>\n",
              "      <td>83807.86</td>\n",
              "      <td>1</td>\n",
              "      <td>0</td>\n",
              "      <td>1</td>\n",
              "      <td>112542.58</td>\n",
              "      <td>0</td>\n",
              "    </tr>\n",
              "    <tr>\n",
              "      <th>2</th>\n",
              "      <td>3</td>\n",
              "      <td>15619304</td>\n",
              "      <td>Onio</td>\n",
              "      <td>502</td>\n",
              "      <td>France</td>\n",
              "      <td>Female</td>\n",
              "      <td>42</td>\n",
              "      <td>8</td>\n",
              "      <td>159660.80</td>\n",
              "      <td>3</td>\n",
              "      <td>1</td>\n",
              "      <td>0</td>\n",
              "      <td>113931.57</td>\n",
              "      <td>1</td>\n",
              "    </tr>\n",
              "    <tr>\n",
              "      <th>3</th>\n",
              "      <td>4</td>\n",
              "      <td>15701354</td>\n",
              "      <td>Boni</td>\n",
              "      <td>699</td>\n",
              "      <td>France</td>\n",
              "      <td>Female</td>\n",
              "      <td>39</td>\n",
              "      <td>1</td>\n",
              "      <td>0.00</td>\n",
              "      <td>2</td>\n",
              "      <td>0</td>\n",
              "      <td>0</td>\n",
              "      <td>93826.63</td>\n",
              "      <td>0</td>\n",
              "    </tr>\n",
              "    <tr>\n",
              "      <th>4</th>\n",
              "      <td>5</td>\n",
              "      <td>15737888</td>\n",
              "      <td>Mitchell</td>\n",
              "      <td>850</td>\n",
              "      <td>Spain</td>\n",
              "      <td>Female</td>\n",
              "      <td>43</td>\n",
              "      <td>2</td>\n",
              "      <td>125510.82</td>\n",
              "      <td>1</td>\n",
              "      <td>1</td>\n",
              "      <td>1</td>\n",
              "      <td>79084.10</td>\n",
              "      <td>0</td>\n",
              "    </tr>\n",
              "  </tbody>\n",
              "</table>\n",
              "</div>"
            ],
            "text/plain": [
              "   RowNumber  CustomerId   Surname  ...  IsActiveMember EstimatedSalary Exited\n",
              "0          1    15634602  Hargrave  ...               1       101348.88      1\n",
              "1          2    15647311      Hill  ...               1       112542.58      0\n",
              "2          3    15619304      Onio  ...               0       113931.57      1\n",
              "3          4    15701354      Boni  ...               0        93826.63      0\n",
              "4          5    15737888  Mitchell  ...               1        79084.10      0\n",
              "\n",
              "[5 rows x 14 columns]"
            ]
          },
          "metadata": {},
          "execution_count": 5
        }
      ]
    },
    {
      "cell_type": "code",
      "metadata": {
        "colab": {
          "base_uri": "https://localhost:8080/",
          "height": 417
        },
        "id": "vkt8HmOlAtVL",
        "outputId": "0e5e397c-4fc5-4b0b-9e5d-135402b122de"
      },
      "source": [
        "#Drop column yang tidak digunakan\n",
        "churn = churn.drop(['CustomerId','Surname','RowNumber'], axis= 1)\n",
        "churn"
      ],
      "execution_count": null,
      "outputs": [
        {
          "output_type": "execute_result",
          "data": {
            "text/html": [
              "<div>\n",
              "<style scoped>\n",
              "    .dataframe tbody tr th:only-of-type {\n",
              "        vertical-align: middle;\n",
              "    }\n",
              "\n",
              "    .dataframe tbody tr th {\n",
              "        vertical-align: top;\n",
              "    }\n",
              "\n",
              "    .dataframe thead th {\n",
              "        text-align: right;\n",
              "    }\n",
              "</style>\n",
              "<table border=\"1\" class=\"dataframe\">\n",
              "  <thead>\n",
              "    <tr style=\"text-align: right;\">\n",
              "      <th></th>\n",
              "      <th>CreditScore</th>\n",
              "      <th>Geography</th>\n",
              "      <th>Gender</th>\n",
              "      <th>Age</th>\n",
              "      <th>Tenure</th>\n",
              "      <th>Balance</th>\n",
              "      <th>NumOfProducts</th>\n",
              "      <th>HasCrCard</th>\n",
              "      <th>IsActiveMember</th>\n",
              "      <th>EstimatedSalary</th>\n",
              "      <th>Exited</th>\n",
              "    </tr>\n",
              "  </thead>\n",
              "  <tbody>\n",
              "    <tr>\n",
              "      <th>0</th>\n",
              "      <td>619</td>\n",
              "      <td>France</td>\n",
              "      <td>Female</td>\n",
              "      <td>42</td>\n",
              "      <td>2</td>\n",
              "      <td>0.00</td>\n",
              "      <td>1</td>\n",
              "      <td>1</td>\n",
              "      <td>1</td>\n",
              "      <td>101348.88</td>\n",
              "      <td>1</td>\n",
              "    </tr>\n",
              "    <tr>\n",
              "      <th>1</th>\n",
              "      <td>608</td>\n",
              "      <td>Spain</td>\n",
              "      <td>Female</td>\n",
              "      <td>41</td>\n",
              "      <td>1</td>\n",
              "      <td>83807.86</td>\n",
              "      <td>1</td>\n",
              "      <td>0</td>\n",
              "      <td>1</td>\n",
              "      <td>112542.58</td>\n",
              "      <td>0</td>\n",
              "    </tr>\n",
              "    <tr>\n",
              "      <th>2</th>\n",
              "      <td>502</td>\n",
              "      <td>France</td>\n",
              "      <td>Female</td>\n",
              "      <td>42</td>\n",
              "      <td>8</td>\n",
              "      <td>159660.80</td>\n",
              "      <td>3</td>\n",
              "      <td>1</td>\n",
              "      <td>0</td>\n",
              "      <td>113931.57</td>\n",
              "      <td>1</td>\n",
              "    </tr>\n",
              "    <tr>\n",
              "      <th>3</th>\n",
              "      <td>699</td>\n",
              "      <td>France</td>\n",
              "      <td>Female</td>\n",
              "      <td>39</td>\n",
              "      <td>1</td>\n",
              "      <td>0.00</td>\n",
              "      <td>2</td>\n",
              "      <td>0</td>\n",
              "      <td>0</td>\n",
              "      <td>93826.63</td>\n",
              "      <td>0</td>\n",
              "    </tr>\n",
              "    <tr>\n",
              "      <th>4</th>\n",
              "      <td>850</td>\n",
              "      <td>Spain</td>\n",
              "      <td>Female</td>\n",
              "      <td>43</td>\n",
              "      <td>2</td>\n",
              "      <td>125510.82</td>\n",
              "      <td>1</td>\n",
              "      <td>1</td>\n",
              "      <td>1</td>\n",
              "      <td>79084.10</td>\n",
              "      <td>0</td>\n",
              "    </tr>\n",
              "    <tr>\n",
              "      <th>...</th>\n",
              "      <td>...</td>\n",
              "      <td>...</td>\n",
              "      <td>...</td>\n",
              "      <td>...</td>\n",
              "      <td>...</td>\n",
              "      <td>...</td>\n",
              "      <td>...</td>\n",
              "      <td>...</td>\n",
              "      <td>...</td>\n",
              "      <td>...</td>\n",
              "      <td>...</td>\n",
              "    </tr>\n",
              "    <tr>\n",
              "      <th>9995</th>\n",
              "      <td>771</td>\n",
              "      <td>France</td>\n",
              "      <td>Male</td>\n",
              "      <td>39</td>\n",
              "      <td>5</td>\n",
              "      <td>0.00</td>\n",
              "      <td>2</td>\n",
              "      <td>1</td>\n",
              "      <td>0</td>\n",
              "      <td>96270.64</td>\n",
              "      <td>0</td>\n",
              "    </tr>\n",
              "    <tr>\n",
              "      <th>9996</th>\n",
              "      <td>516</td>\n",
              "      <td>France</td>\n",
              "      <td>Male</td>\n",
              "      <td>35</td>\n",
              "      <td>10</td>\n",
              "      <td>57369.61</td>\n",
              "      <td>1</td>\n",
              "      <td>1</td>\n",
              "      <td>1</td>\n",
              "      <td>101699.77</td>\n",
              "      <td>0</td>\n",
              "    </tr>\n",
              "    <tr>\n",
              "      <th>9997</th>\n",
              "      <td>709</td>\n",
              "      <td>France</td>\n",
              "      <td>Female</td>\n",
              "      <td>36</td>\n",
              "      <td>7</td>\n",
              "      <td>0.00</td>\n",
              "      <td>1</td>\n",
              "      <td>0</td>\n",
              "      <td>1</td>\n",
              "      <td>42085.58</td>\n",
              "      <td>1</td>\n",
              "    </tr>\n",
              "    <tr>\n",
              "      <th>9998</th>\n",
              "      <td>772</td>\n",
              "      <td>Germany</td>\n",
              "      <td>Male</td>\n",
              "      <td>42</td>\n",
              "      <td>3</td>\n",
              "      <td>75075.31</td>\n",
              "      <td>2</td>\n",
              "      <td>1</td>\n",
              "      <td>0</td>\n",
              "      <td>92888.52</td>\n",
              "      <td>1</td>\n",
              "    </tr>\n",
              "    <tr>\n",
              "      <th>9999</th>\n",
              "      <td>792</td>\n",
              "      <td>France</td>\n",
              "      <td>Female</td>\n",
              "      <td>28</td>\n",
              "      <td>4</td>\n",
              "      <td>130142.79</td>\n",
              "      <td>1</td>\n",
              "      <td>1</td>\n",
              "      <td>0</td>\n",
              "      <td>38190.78</td>\n",
              "      <td>0</td>\n",
              "    </tr>\n",
              "  </tbody>\n",
              "</table>\n",
              "<p>10000 rows × 11 columns</p>\n",
              "</div>"
            ],
            "text/plain": [
              "      CreditScore Geography  Gender  ...  IsActiveMember  EstimatedSalary  Exited\n",
              "0             619    France  Female  ...               1        101348.88       1\n",
              "1             608     Spain  Female  ...               1        112542.58       0\n",
              "2             502    France  Female  ...               0        113931.57       1\n",
              "3             699    France  Female  ...               0         93826.63       0\n",
              "4             850     Spain  Female  ...               1         79084.10       0\n",
              "...           ...       ...     ...  ...             ...              ...     ...\n",
              "9995          771    France    Male  ...               0         96270.64       0\n",
              "9996          516    France    Male  ...               1        101699.77       0\n",
              "9997          709    France  Female  ...               1         42085.58       1\n",
              "9998          772   Germany    Male  ...               0         92888.52       1\n",
              "9999          792    France  Female  ...               0         38190.78       0\n",
              "\n",
              "[10000 rows x 11 columns]"
            ]
          },
          "metadata": {},
          "execution_count": 6
        }
      ]
    },
    {
      "cell_type": "markdown",
      "metadata": {
        "id": "DclK8jeOj_Mk"
      },
      "source": [
        "## **Visualization**"
      ]
    },
    {
      "cell_type": "code",
      "metadata": {
        "colab": {
          "base_uri": "https://localhost:8080/",
          "height": 248
        },
        "id": "J-kK2RNxqhUn",
        "outputId": "a0b2f7b7-e4e2-4a4c-b285-55b4ae97c732"
      },
      "source": [
        "import matplotlib.pyplot as plt\n",
        "import numpy as np\n",
        "Keluar = churn[churn['Exited'] == 1].count()\n",
        "Bertahan = churn[churn['Exited'] == 0].count()\n",
        "\n",
        "y = np.array([Keluar['Exited'], Bertahan['Exited']])\n",
        "mylabels = [\"Exited\", \"No Exited\"]\n",
        "\n",
        "plt.pie(y, autopct='%.1f%%', labels = mylabels, startangle = 90,colors=['khaki','aquamarine'])\n",
        "plt.show() "
      ],
      "execution_count": null,
      "outputs": [
        {
          "output_type": "display_data",
          "data": {
            "image/png": "[encoded data removed]",
            "text/plain": [
              "<Figure size 432x288 with 1 Axes>"
            ]
          },
          "metadata": {}
        }
      ]
    },
    {
      "cell_type": "code",
      "metadata": {
        "colab": {
          "base_uri": "https://localhost:8080/",
          "height": 1000
        },
        "id": "lxUi7H5hTWfc",
        "outputId": "4c42387b-526b-4968-858b-0255e4771ae3"
      },
      "source": [
        "#data distribution\n",
        "\n",
        "sns.histplot(churn['CreditScore'])\n",
        "plt.show()\n",
        "print('\\n')\n",
        "sns.histplot(churn['Age'])\n",
        "plt.show()\n",
        "print('\\n')\n",
        "sns.histplot(churn['EstimatedSalary'])\n",
        "plt.show()\n",
        "print('\\n')\n",
        "sns.histplot(churn['Balance'])\n",
        "plt.show()"
      ],
      "execution_count": null,
      "outputs": [
        {
          "output_type": "display_data",
          "data": {
            "image/png": "[encoded data removed]",
            "text/plain": [
              "<Figure size 432x288 with 1 Axes>"
            ]
          },
          "metadata": {
            "needs_background": "light"
          }
        },
        {
          "output_type": "stream",
          "name": "stdout",
          "text": [
            "\n",
            "\n"
          ]
        },
        {
          "output_type": "display_data",
          "data": {
            "image/png": "[encoded data removed]",
            "text/plain": [
              "<Figure size 432x288 with 1 Axes>"
            ]
          },
          "metadata": {
            "needs_background": "light"
          }
        },
        {
          "output_type": "stream",
          "name": "stdout",
          "text": [
            "\n",
            "\n"
          ]
        },
        {
          "output_type": "display_data",
          "data": {
            "image/png": "[encoded data removed]",
            "text/plain": [
              "<Figure size 432x288 with 1 Axes>"
            ]
          },
          "metadata": {
            "needs_background": "light"
          }
        },
        {
          "output_type": "stream",
          "name": "stdout",
          "text": [
            "\n",
            "\n"
          ]
        },
        {
          "output_type": "display_data",
          "data": {
            "image/png": "[encoded data removed]",
            "text/plain": [
              "<Figure size 432x288 with 1 Axes>"
            ]
          },
          "metadata": {
            "needs_background": "light"
          }
        }
      ]
    },
    {
      "cell_type": "code",
      "metadata": {
        "colab": {
          "base_uri": "https://localhost:8080/",
          "height": 296
        },
        "id": "o8y1NW08hxOB",
        "outputId": "68f34314-adc6-4b44-ae09-d8794bfec1cd"
      },
      "source": [
        "sns.kdeplot(data=churn, x='Age', hue='Exited')"
      ],
      "execution_count": null,
      "outputs": [
        {
          "output_type": "execute_result",
          "data": {
            "text/plain": [
              "<matplotlib.axes._subplots.AxesSubplot at 0x7f454864ab10>"
            ]
          },
          "metadata": {},
          "execution_count": 9
        },
        {
          "output_type": "display_data",
          "data": {
            "image/png": "[encoded data removed]",
            "text/plain": [
              "<Figure size 432x288 with 1 Axes>"
            ]
          },
          "metadata": {
            "needs_background": "light"
          }
        }
      ]
    },
    {
      "cell_type": "code",
      "metadata": {
        "colab": {
          "base_uri": "https://localhost:8080/",
          "height": 1000
        },
        "id": "u1sH9yVWr_uX",
        "outputId": "89c2ed1e-a4f8-4405-edc9-5abca0ac232f"
      },
      "source": [
        "#pivoting and visualization\n",
        "\n",
        "avg_cs = pd.pivot_table(churn,index=[\"Exited\"],aggfunc=np.average, values=['CreditScore'])\n",
        "avg_cs.reset_index(inplace=True)\n",
        "avg_cs\n",
        "plt.bar(avg_cs['Exited'],avg_cs['CreditScore'])\n",
        "plt.title('Average Credit Score')\n",
        "plt.xlabel('Exited')\n",
        "plt.ylabel('Credit Score')\n",
        "\n",
        "plt.show()\n",
        "\n",
        "print('\\n')\n",
        "\n",
        "average_Age = pd.pivot_table(churn,index=[\"Exited\"],aggfunc=np.average, values=['Age'])\n",
        "average_Age.reset_index(inplace=True)\n",
        "plt.bar(average_Age['Exited'],average_Age['Age'])\n",
        "plt.title('Avg Age')\n",
        "plt.xlabel('Exited')\n",
        "plt.ylabel('Age')\n",
        "\n",
        "plt.show()\n",
        "\n",
        "print('\\n')\n",
        "\n",
        "average_Tenure = pd.pivot_table(churn,index=[\"Exited\"],aggfunc=np.average, values=['Tenure'])\n",
        "average_Tenure.reset_index(inplace=True)\n",
        "plt.bar(average_Tenure['Exited'],average_Tenure['Tenure'])\n",
        "plt.title('Avg Tenure')\n",
        "plt.xlabel('Exited')\n",
        "plt.ylabel('Tenure')\n",
        "\n",
        "plt.show()\n",
        "\n",
        "print('\\n')\n",
        "\n",
        "average_balance = pd.pivot_table(churn,index=[\"Exited\"],aggfunc=np.average, values=['Balance'])\n",
        "average_balance.reset_index(inplace=True)\n",
        "plt.bar(average_balance['Exited'],average_balance['Balance'])\n",
        "plt.title('Avg Balance')\n",
        "plt.xlabel('Exited')\n",
        "plt.ylabel('Balance')\n",
        "\n",
        "plt.show()\n",
        "\n",
        "print('\\n')\n",
        "\n",
        "avg_NumOfProducts = pd.pivot_table(churn,index=[\"Exited\"],aggfunc=np.average, values=['NumOfProducts'])\n",
        "avg_NumOfProducts.reset_index(inplace=True)\n",
        "plt.bar(avg_NumOfProducts['Exited'],avg_NumOfProducts['NumOfProducts'])\n",
        "plt.title('Avg NumOfProducts')\n",
        "plt.xlabel('Exited')\n",
        "plt.ylabel('NumOfProducts')\n",
        "\n",
        "plt.show()\n",
        "\n",
        "print('\\n')\n",
        "\n",
        "avg_2 = pd.pivot_table(churn,index=[\"Geography\"],aggfunc=np.average, values=['Exited'])\n",
        "avg_2.reset_index(inplace=True)\n",
        "avg_2.plot(x='Geography',y='Exited',kind='bar')\n",
        "plt.show()\n",
        "\n",
        "print('\\n')\n",
        "\n",
        "avg_act = pd.pivot_table(churn,index=[\"IsActiveMember\"],aggfunc=np.average, values=['Exited'])\n",
        "avg_act.reset_index(inplace=True)\n",
        "avg_act.plot(x='IsActiveMember',y='Exited',kind='bar')\n",
        "plt.show()"
      ],
      "execution_count": null,
      "outputs": [
        {
          "output_type": "display_data",
          "data": {
            "image/png": "[encoded data removed]",
            "text/plain": [
              "<Figure size 432x288 with 1 Axes>"
            ]
          },
          "metadata": {
            "needs_background": "light"
          }
        },
        {
          "output_type": "stream",
          "name": "stdout",
          "text": [
            "\n",
            "\n"
          ]
        },
        {
          "output_type": "display_data",
          "data": {
            "image/png": "[encoded data removed]",
            "text/plain": [
              "<Figure size 432x288 with 1 Axes>"
            ]
          },
          "metadata": {
            "needs_background": "light"
          }
        },
        {
          "output_type": "stream",
          "name": "stdout",
          "text": [
            "\n",
            "\n"
          ]
        },
        {
          "output_type": "display_data",
          "data": {
            "image/png": "[encoded data removed]",
            "text/plain": [
              "<Figure size 432x288 with 1 Axes>"
            ]
          },
          "metadata": {
            "needs_background": "light"
          }
        },
        {
          "output_type": "stream",
          "name": "stdout",
          "text": [
            "\n",
            "\n"
          ]
        },
        {
          "output_type": "display_data",
          "data": {
            "image/png": "[encoded data removed]",
            "text/plain": [
              "<Figure size 432x288 with 1 Axes>"
            ]
          },
          "metadata": {
            "needs_background": "light"
          }
        },
        {
          "output_type": "stream",
          "name": "stdout",
          "text": [
            "\n",
            "\n"
          ]
        },
        {
          "output_type": "display_data",
          "data": {
            "image/png": "[encoded data removed]",
            "text/plain": [
              "<Figure size 432x288 with 1 Axes>"
            ]
          },
          "metadata": {
            "needs_background": "light"
          }
        },
        {
          "output_type": "stream",
          "name": "stdout",
          "text": [
            "\n",
            "\n"
          ]
        },
        {
          "output_type": "display_data",
          "data": {
            "image/png": "[encoded data removed]",
            "text/plain": [
              "<Figure size 432x288 with 1 Axes>"
            ]
          },
          "metadata": {
            "needs_background": "light"
          }
        },
        {
          "output_type": "stream",
          "name": "stdout",
          "text": [
            "\n",
            "\n"
          ]
        },
        {
          "output_type": "display_data",
          "data": {
            "image/png": "[encoded data removed]",
            "text/plain": [
              "<Figure size 432x288 with 1 Axes>"
            ]
          },
          "metadata": {
            "needs_background": "light"
          }
        }
      ]
    },
    {
      "cell_type": "code",
      "metadata": {
        "colab": {
          "base_uri": "https://localhost:8080/",
          "height": 384
        },
        "id": "27lAAQRVAY7D",
        "outputId": "fa84a0e9-bc44-4a86-d28e-85def9e5bc64"
      },
      "source": [
        "sns.relplot(data= churn, x= 'Age', y='Balance', col= 'Geography', style= 'Exited', hue= 'Exited')"
      ],
      "execution_count": null,
      "outputs": [
        {
          "output_type": "execute_result",
          "data": {
            "text/plain": [
              "<seaborn.axisgrid.FacetGrid at 0x7f4546503410>"
            ]
          },
          "metadata": {},
          "execution_count": 11
        },
        {
          "output_type": "display_data",
          "data": {
            "image/png": "[encoded data removed]",
            "text/plain": [
              "<Figure size 1122.38x360 with 3 Axes>"
            ]
          },
          "metadata": {
            "needs_background": "light"
          }
        }
      ]
    },
    {
      "cell_type": "code",
      "metadata": {
        "colab": {
          "base_uri": "https://localhost:8080/",
          "height": 314
        },
        "id": "qyYVLm3HBBwE",
        "outputId": "f1d7386b-b249-4136-861b-2e89bbe4fe91"
      },
      "source": [
        "sns.catplot(data=churn,x='Gender',hue='Gender',col= 'Exited',kind='count', height= 4, aspect= .9)"
      ],
      "execution_count": null,
      "outputs": [
        {
          "output_type": "execute_result",
          "data": {
            "text/plain": [
              "<seaborn.axisgrid.FacetGrid at 0x7f45488de050>"
            ]
          },
          "metadata": {},
          "execution_count": 12
        },
        {
          "output_type": "display_data",
          "data": {
            "image/png": "[encoded data removed]",
            "text/plain": [
              "<Figure size 518.4x288 with 2 Axes>"
            ]
          },
          "metadata": {
            "needs_background": "light"
          }
        }
      ]
    },
    {
      "cell_type": "code",
      "metadata": {
        "colab": {
          "base_uri": "https://localhost:8080/",
          "height": 314
        },
        "id": "gylJYLYWBGNd",
        "outputId": "09d27a41-3c09-4fcd-fe1f-b7e1fcd3b1be"
      },
      "source": [
        "sns.catplot(data=churn,x='Geography',hue='Gender',col= 'Exited',kind='count', height= 4, aspect= .9)"
      ],
      "execution_count": null,
      "outputs": [
        {
          "output_type": "execute_result",
          "data": {
            "text/plain": [
              "<seaborn.axisgrid.FacetGrid at 0x7f454868cf10>"
            ]
          },
          "metadata": {},
          "execution_count": 13
        },
        {
          "output_type": "display_data",
          "data": {
            "image/png": "[encoded data removed]",
            "text/plain": [
              "<Figure size 590.525x288 with 2 Axes>"
            ]
          },
          "metadata": {
            "needs_background": "light"
          }
        }
      ]
    },
    {
      "cell_type": "code",
      "metadata": {
        "colab": {
          "base_uri": "https://localhost:8080/",
          "height": 684
        },
        "id": "M_qD3Pn2BQFv",
        "outputId": "d7153a3e-95fb-42f9-8376-0249c5036a28"
      },
      "source": [
        "a = churn.corr()\n",
        "plt.figure(figsize=(16,10))\n",
        "sns.heatmap(a, annot=True)"
      ],
      "execution_count": null,
      "outputs": [
        {
          "output_type": "execute_result",
          "data": {
            "text/plain": [
              "<matplotlib.axes._subplots.AxesSubplot at 0x7f453c3a2850>"
            ]
          },
          "metadata": {},
          "execution_count": 14
        },
        {
          "output_type": "display_data",
          "data": {
            "image/png": "[encoded data removed]",
            "text/plain": [
              "<Figure size 1152x720 with 2 Axes>"
            ]
          },
          "metadata": {
            "needs_background": "light"
          }
        }
      ]
    },
    {
      "cell_type": "markdown",
      "metadata": {
        "id": "SgeLIJ1XmtuT"
      },
      "source": [
        "# **STAGE 4**"
      ]
    },
    {
      "cell_type": "markdown",
      "metadata": {
        "id": "Qt_5fK7Zmy-1"
      },
      "source": [
        "## **Data Preprocessing**"
      ]
    },
    {
      "cell_type": "code",
      "metadata": {
        "colab": {
          "base_uri": "https://localhost:8080/"
        },
        "id": "6Z42iBDsBVWA",
        "outputId": "35907370-0585-4eb6-ade5-89f1d9bdbcaa"
      },
      "source": [
        "Counter(churn['Geography'])"
      ],
      "execution_count": null,
      "outputs": [
        {
          "output_type": "execute_result",
          "data": {
            "text/plain": [
              "Counter({'France': 5014, 'Germany': 2509, 'Spain': 2477})"
            ]
          },
          "metadata": {},
          "execution_count": 15
        }
      ]
    },
    {
      "cell_type": "code",
      "metadata": {
        "colab": {
          "base_uri": "https://localhost:8080/",
          "height": 203
        },
        "id": "0LB38Ap2BW7Z",
        "outputId": "88f6d29a-31ba-464f-925c-6f439dc22b89"
      },
      "source": [
        "df_2 = churn[[\"Geography\", 'Balance']]\n",
        "df_2.head()"
      ],
      "execution_count": null,
      "outputs": [
        {
          "output_type": "execute_result",
          "data": {
            "text/html": [
              "<div>\n",
              "<style scoped>\n",
              "    .dataframe tbody tr th:only-of-type {\n",
              "        vertical-align: middle;\n",
              "    }\n",
              "\n",
              "    .dataframe tbody tr th {\n",
              "        vertical-align: top;\n",
              "    }\n",
              "\n",
              "    .dataframe thead th {\n",
              "        text-align: right;\n",
              "    }\n",
              "</style>\n",
              "<table border=\"1\" class=\"dataframe\">\n",
              "  <thead>\n",
              "    <tr style=\"text-align: right;\">\n",
              "      <th></th>\n",
              "      <th>Geography</th>\n",
              "      <th>Balance</th>\n",
              "    </tr>\n",
              "  </thead>\n",
              "  <tbody>\n",
              "    <tr>\n",
              "      <th>0</th>\n",
              "      <td>France</td>\n",
              "      <td>0.00</td>\n",
              "    </tr>\n",
              "    <tr>\n",
              "      <th>1</th>\n",
              "      <td>Spain</td>\n",
              "      <td>83807.86</td>\n",
              "    </tr>\n",
              "    <tr>\n",
              "      <th>2</th>\n",
              "      <td>France</td>\n",
              "      <td>159660.80</td>\n",
              "    </tr>\n",
              "    <tr>\n",
              "      <th>3</th>\n",
              "      <td>France</td>\n",
              "      <td>0.00</td>\n",
              "    </tr>\n",
              "    <tr>\n",
              "      <th>4</th>\n",
              "      <td>Spain</td>\n",
              "      <td>125510.82</td>\n",
              "    </tr>\n",
              "  </tbody>\n",
              "</table>\n",
              "</div>"
            ],
            "text/plain": [
              "  Geography    Balance\n",
              "0    France       0.00\n",
              "1     Spain   83807.86\n",
              "2    France  159660.80\n",
              "3    France       0.00\n",
              "4     Spain  125510.82"
            ]
          },
          "metadata": {},
          "execution_count": 16
        }
      ]
    },
    {
      "cell_type": "code",
      "metadata": {
        "id": "AnKq1aGT4Ei0",
        "colab": {
          "base_uri": "https://localhost:8080/",
          "height": 172
        },
        "outputId": "57ee13b8-5d79-4470-a300-29319518cf81"
      },
      "source": [
        "#onehot geography berdasarkan mean dari Age dan balance\n",
        "dataset = pd.pivot_table(churn,index=[\"Geography\"],aggfunc=[np.mean], values=['Age','Balance'])\n",
        "dataset.reset_index(inplace=True)\n",
        "dataset"
      ],
      "execution_count": null,
      "outputs": [
        {
          "output_type": "execute_result",
          "data": {
            "text/html": [
              "<div>\n",
              "<style scoped>\n",
              "    .dataframe tbody tr th:only-of-type {\n",
              "        vertical-align: middle;\n",
              "    }\n",
              "\n",
              "    .dataframe tbody tr th {\n",
              "        vertical-align: top;\n",
              "    }\n",
              "\n",
              "    .dataframe thead tr th {\n",
              "        text-align: left;\n",
              "    }\n",
              "</style>\n",
              "<table border=\"1\" class=\"dataframe\">\n",
              "  <thead>\n",
              "    <tr>\n",
              "      <th></th>\n",
              "      <th>Geography</th>\n",
              "      <th colspan=\"2\" halign=\"left\">mean</th>\n",
              "    </tr>\n",
              "    <tr>\n",
              "      <th></th>\n",
              "      <th></th>\n",
              "      <th>Age</th>\n",
              "      <th>Balance</th>\n",
              "    </tr>\n",
              "  </thead>\n",
              "  <tbody>\n",
              "    <tr>\n",
              "      <th>0</th>\n",
              "      <td>France</td>\n",
              "      <td>38.511767</td>\n",
              "      <td>62092.636516</td>\n",
              "    </tr>\n",
              "    <tr>\n",
              "      <th>1</th>\n",
              "      <td>Germany</td>\n",
              "      <td>39.771622</td>\n",
              "      <td>119730.116134</td>\n",
              "    </tr>\n",
              "    <tr>\n",
              "      <th>2</th>\n",
              "      <td>Spain</td>\n",
              "      <td>38.890997</td>\n",
              "      <td>61818.147763</td>\n",
              "    </tr>\n",
              "  </tbody>\n",
              "</table>\n",
              "</div>"
            ],
            "text/plain": [
              "  Geography       mean               \n",
              "                   Age        Balance\n",
              "0    France  38.511767   62092.636516\n",
              "1   Germany  39.771622  119730.116134\n",
              "2     Spain  38.890997   61818.147763"
            ]
          },
          "metadata": {},
          "execution_count": 17
        }
      ]
    },
    {
      "cell_type": "code",
      "metadata": {
        "colab": {
          "base_uri": "https://localhost:8080/"
        },
        "id": "okO-UHQbFSrD",
        "outputId": "577d2946-8d17-426d-dccb-8aa04531682e"
      },
      "source": [
        "#check count of balance with 0 value\n",
        "churn[churn['Balance'] == 0].value_counts()"
      ],
      "execution_count": null,
      "outputs": [
        {
          "output_type": "execute_result",
          "data": {
            "text/plain": [
              "CreditScore  Geography  Gender  Age  Tenure  Balance  NumOfProducts  HasCrCard  IsActiveMember  EstimatedSalary  Exited\n",
              "850          Spain      Male    62   5       0.0      2              1          1               180243.56        0         1\n",
              "604          Spain      Female  71   10      0.0      2              1          1               129984.20        0         1\n",
              "606          Spain      Male    35   7       0.0      1              1          0               106837.06        1         1\n",
              "                                33   8       0.0      2              1          1               63176.77         0         1\n",
              "                        Female  46   8       0.0      2              1          1               183717.94        0         1\n",
              "                                                                                                                          ..\n",
              "693          Spain      Female  45   4       0.0      2              1          1               26589.56         0         1\n",
              "                                39   0       0.0      2              0          0               81901.60         0         1\n",
              "             France     Male    68   2       0.0      2              1          1               59864.96         0         1\n",
              "                                41   4       0.0      2              0          0               156381.47        0         1\n",
              "350          France     Female  60   3       0.0      1              0          0               113796.15        1         1\n",
              "Length: 3617, dtype: int64"
            ]
          },
          "metadata": {},
          "execution_count": 18
        }
      ]
    },
    {
      "cell_type": "code",
      "metadata": {
        "id": "IPbbjchhE2fF",
        "colab": {
          "base_uri": "https://localhost:8080/",
          "height": 203
        },
        "outputId": "2c2f05e4-8eaa-499d-bc10-779c693f56ac"
      },
      "source": [
        "#replace 0 value with mean\n",
        "churn['Balance'].replace(0, churn['Balance'].mean(), inplace=True)\n",
        "churn.head()"
      ],
      "execution_count": null,
      "outputs": [
        {
          "output_type": "execute_result",
          "data": {
            "text/html": [
              "<div>\n",
              "<style scoped>\n",
              "    .dataframe tbody tr th:only-of-type {\n",
              "        vertical-align: middle;\n",
              "    }\n",
              "\n",
              "    .dataframe tbody tr th {\n",
              "        vertical-align: top;\n",
              "    }\n",
              "\n",
              "    .dataframe thead th {\n",
              "        text-align: right;\n",
              "    }\n",
              "</style>\n",
              "<table border=\"1\" class=\"dataframe\">\n",
              "  <thead>\n",
              "    <tr style=\"text-align: right;\">\n",
              "      <th></th>\n",
              "      <th>CreditScore</th>\n",
              "      <th>Geography</th>\n",
              "      <th>Gender</th>\n",
              "      <th>Age</th>\n",
              "      <th>Tenure</th>\n",
              "      <th>Balance</th>\n",
              "      <th>NumOfProducts</th>\n",
              "      <th>HasCrCard</th>\n",
              "      <th>IsActiveMember</th>\n",
              "      <th>EstimatedSalary</th>\n",
              "      <th>Exited</th>\n",
              "    </tr>\n",
              "  </thead>\n",
              "  <tbody>\n",
              "    <tr>\n",
              "      <th>0</th>\n",
              "      <td>619</td>\n",
              "      <td>France</td>\n",
              "      <td>Female</td>\n",
              "      <td>42</td>\n",
              "      <td>2</td>\n",
              "      <td>76485.889288</td>\n",
              "      <td>1</td>\n",
              "      <td>1</td>\n",
              "      <td>1</td>\n",
              "      <td>101348.88</td>\n",
              "      <td>1</td>\n",
              "    </tr>\n",
              "    <tr>\n",
              "      <th>1</th>\n",
              "      <td>608</td>\n",
              "      <td>Spain</td>\n",
              "      <td>Female</td>\n",
              "      <td>41</td>\n",
              "      <td>1</td>\n",
              "      <td>83807.860000</td>\n",
              "      <td>1</td>\n",
              "      <td>0</td>\n",
              "      <td>1</td>\n",
              "      <td>112542.58</td>\n",
              "      <td>0</td>\n",
              "    </tr>\n",
              "    <tr>\n",
              "      <th>2</th>\n",
              "      <td>502</td>\n",
              "      <td>France</td>\n",
              "      <td>Female</td>\n",
              "      <td>42</td>\n",
              "      <td>8</td>\n",
              "      <td>159660.800000</td>\n",
              "      <td>3</td>\n",
              "      <td>1</td>\n",
              "      <td>0</td>\n",
              "      <td>113931.57</td>\n",
              "      <td>1</td>\n",
              "    </tr>\n",
              "    <tr>\n",
              "      <th>3</th>\n",
              "      <td>699</td>\n",
              "      <td>France</td>\n",
              "      <td>Female</td>\n",
              "      <td>39</td>\n",
              "      <td>1</td>\n",
              "      <td>76485.889288</td>\n",
              "      <td>2</td>\n",
              "      <td>0</td>\n",
              "      <td>0</td>\n",
              "      <td>93826.63</td>\n",
              "      <td>0</td>\n",
              "    </tr>\n",
              "    <tr>\n",
              "      <th>4</th>\n",
              "      <td>850</td>\n",
              "      <td>Spain</td>\n",
              "      <td>Female</td>\n",
              "      <td>43</td>\n",
              "      <td>2</td>\n",
              "      <td>125510.820000</td>\n",
              "      <td>1</td>\n",
              "      <td>1</td>\n",
              "      <td>1</td>\n",
              "      <td>79084.10</td>\n",
              "      <td>0</td>\n",
              "    </tr>\n",
              "  </tbody>\n",
              "</table>\n",
              "</div>"
            ],
            "text/plain": [
              "   CreditScore Geography  Gender  ...  IsActiveMember  EstimatedSalary  Exited\n",
              "0          619    France  Female  ...               1        101348.88       1\n",
              "1          608     Spain  Female  ...               1        112542.58       0\n",
              "2          502    France  Female  ...               0        113931.57       1\n",
              "3          699    France  Female  ...               0         93826.63       0\n",
              "4          850     Spain  Female  ...               1         79084.10       0\n",
              "\n",
              "[5 rows x 11 columns]"
            ]
          },
          "metadata": {},
          "execution_count": 19
        }
      ]
    },
    {
      "cell_type": "code",
      "metadata": {
        "colab": {
          "base_uri": "https://localhost:8080/",
          "height": 521
        },
        "id": "I7F0UPnUFjdP",
        "outputId": "c8ac1107-28cc-45ea-df6a-84b70a45eebe"
      },
      "source": [
        "#merge onehot encoding georaphy berdasarkan Age,Balance dengan tabel churn\n",
        "mergeDataset = pd.merge(churn,dataset, how='left', on='Geography')\n",
        "mergeDataset"
      ],
      "execution_count": null,
      "outputs": [
        {
          "output_type": "stream",
          "name": "stderr",
          "text": [
            "/usr/local/lib/python3.7/dist-packages/pandas/core/reshape/merge.py:643: UserWarning: merging between different levels can give an unintended result (1 levels on the left,2 on the right)\n",
            "  warnings.warn(msg, UserWarning)\n",
            "/usr/local/lib/python3.7/dist-packages/pandas/core/generic.py:3889: PerformanceWarning: dropping on a non-lexsorted multi-index without a level parameter may impact performance.\n",
            "  obj = obj._drop_axis(labels, axis, level=level, errors=errors)\n"
          ]
        },
        {
          "output_type": "execute_result",
          "data": {
            "text/html": [
              "<div>\n",
              "<style scoped>\n",
              "    .dataframe tbody tr th:only-of-type {\n",
              "        vertical-align: middle;\n",
              "    }\n",
              "\n",
              "    .dataframe tbody tr th {\n",
              "        vertical-align: top;\n",
              "    }\n",
              "\n",
              "    .dataframe thead th {\n",
              "        text-align: right;\n",
              "    }\n",
              "</style>\n",
              "<table border=\"1\" class=\"dataframe\">\n",
              "  <thead>\n",
              "    <tr style=\"text-align: right;\">\n",
              "      <th></th>\n",
              "      <th>CreditScore</th>\n",
              "      <th>Geography</th>\n",
              "      <th>Gender</th>\n",
              "      <th>Age</th>\n",
              "      <th>Tenure</th>\n",
              "      <th>Balance</th>\n",
              "      <th>NumOfProducts</th>\n",
              "      <th>HasCrCard</th>\n",
              "      <th>IsActiveMember</th>\n",
              "      <th>EstimatedSalary</th>\n",
              "      <th>Exited</th>\n",
              "      <th>(mean, Age)</th>\n",
              "      <th>(mean, Balance)</th>\n",
              "    </tr>\n",
              "  </thead>\n",
              "  <tbody>\n",
              "    <tr>\n",
              "      <th>0</th>\n",
              "      <td>619</td>\n",
              "      <td>France</td>\n",
              "      <td>Female</td>\n",
              "      <td>42</td>\n",
              "      <td>2</td>\n",
              "      <td>76485.889288</td>\n",
              "      <td>1</td>\n",
              "      <td>1</td>\n",
              "      <td>1</td>\n",
              "      <td>101348.88</td>\n",
              "      <td>1</td>\n",
              "      <td>38.511767</td>\n",
              "      <td>62092.636516</td>\n",
              "    </tr>\n",
              "    <tr>\n",
              "      <th>1</th>\n",
              "      <td>608</td>\n",
              "      <td>Spain</td>\n",
              "      <td>Female</td>\n",
              "      <td>41</td>\n",
              "      <td>1</td>\n",
              "      <td>83807.860000</td>\n",
              "      <td>1</td>\n",
              "      <td>0</td>\n",
              "      <td>1</td>\n",
              "      <td>112542.58</td>\n",
              "      <td>0</td>\n",
              "      <td>38.890997</td>\n",
              "      <td>61818.147763</td>\n",
              "    </tr>\n",
              "    <tr>\n",
              "      <th>2</th>\n",
              "      <td>502</td>\n",
              "      <td>France</td>\n",
              "      <td>Female</td>\n",
              "      <td>42</td>\n",
              "      <td>8</td>\n",
              "      <td>159660.800000</td>\n",
              "      <td>3</td>\n",
              "      <td>1</td>\n",
              "      <td>0</td>\n",
              "      <td>113931.57</td>\n",
              "      <td>1</td>\n",
              "      <td>38.511767</td>\n",
              "      <td>62092.636516</td>\n",
              "    </tr>\n",
              "    <tr>\n",
              "      <th>3</th>\n",
              "      <td>699</td>\n",
              "      <td>France</td>\n",
              "      <td>Female</td>\n",
              "      <td>39</td>\n",
              "      <td>1</td>\n",
              "      <td>76485.889288</td>\n",
              "      <td>2</td>\n",
              "      <td>0</td>\n",
              "      <td>0</td>\n",
              "      <td>93826.63</td>\n",
              "      <td>0</td>\n",
              "      <td>38.511767</td>\n",
              "      <td>62092.636516</td>\n",
              "    </tr>\n",
              "    <tr>\n",
              "      <th>4</th>\n",
              "      <td>850</td>\n",
              "      <td>Spain</td>\n",
              "      <td>Female</td>\n",
              "      <td>43</td>\n",
              "      <td>2</td>\n",
              "      <td>125510.820000</td>\n",
              "      <td>1</td>\n",
              "      <td>1</td>\n",
              "      <td>1</td>\n",
              "      <td>79084.10</td>\n",
              "      <td>0</td>\n",
              "      <td>38.890997</td>\n",
              "      <td>61818.147763</td>\n",
              "    </tr>\n",
              "    <tr>\n",
              "      <th>...</th>\n",
              "      <td>...</td>\n",
              "      <td>...</td>\n",
              "      <td>...</td>\n",
              "      <td>...</td>\n",
              "      <td>...</td>\n",
              "      <td>...</td>\n",
              "      <td>...</td>\n",
              "      <td>...</td>\n",
              "      <td>...</td>\n",
              "      <td>...</td>\n",
              "      <td>...</td>\n",
              "      <td>...</td>\n",
              "      <td>...</td>\n",
              "    </tr>\n",
              "    <tr>\n",
              "      <th>9995</th>\n",
              "      <td>771</td>\n",
              "      <td>France</td>\n",
              "      <td>Male</td>\n",
              "      <td>39</td>\n",
              "      <td>5</td>\n",
              "      <td>76485.889288</td>\n",
              "      <td>2</td>\n",
              "      <td>1</td>\n",
              "      <td>0</td>\n",
              "      <td>96270.64</td>\n",
              "      <td>0</td>\n",
              "      <td>38.511767</td>\n",
              "      <td>62092.636516</td>\n",
              "    </tr>\n",
              "    <tr>\n",
              "      <th>9996</th>\n",
              "      <td>516</td>\n",
              "      <td>France</td>\n",
              "      <td>Male</td>\n",
              "      <td>35</td>\n",
              "      <td>10</td>\n",
              "      <td>57369.610000</td>\n",
              "      <td>1</td>\n",
              "      <td>1</td>\n",
              "      <td>1</td>\n",
              "      <td>101699.77</td>\n",
              "      <td>0</td>\n",
              "      <td>38.511767</td>\n",
              "      <td>62092.636516</td>\n",
              "    </tr>\n",
              "    <tr>\n",
              "      <th>9997</th>\n",
              "      <td>709</td>\n",
              "      <td>France</td>\n",
              "      <td>Female</td>\n",
              "      <td>36</td>\n",
              "      <td>7</td>\n",
              "      <td>76485.889288</td>\n",
              "      <td>1</td>\n",
              "      <td>0</td>\n",
              "      <td>1</td>\n",
              "      <td>42085.58</td>\n",
              "      <td>1</td>\n",
              "      <td>38.511767</td>\n",
              "      <td>62092.636516</td>\n",
              "    </tr>\n",
              "    <tr>\n",
              "      <th>9998</th>\n",
              "      <td>772</td>\n",
              "      <td>Germany</td>\n",
              "      <td>Male</td>\n",
              "      <td>42</td>\n",
              "      <td>3</td>\n",
              "      <td>75075.310000</td>\n",
              "      <td>2</td>\n",
              "      <td>1</td>\n",
              "      <td>0</td>\n",
              "      <td>92888.52</td>\n",
              "      <td>1</td>\n",
              "      <td>39.771622</td>\n",
              "      <td>119730.116134</td>\n",
              "    </tr>\n",
              "    <tr>\n",
              "      <th>9999</th>\n",
              "      <td>792</td>\n",
              "      <td>France</td>\n",
              "      <td>Female</td>\n",
              "      <td>28</td>\n",
              "      <td>4</td>\n",
              "      <td>130142.790000</td>\n",
              "      <td>1</td>\n",
              "      <td>1</td>\n",
              "      <td>0</td>\n",
              "      <td>38190.78</td>\n",
              "      <td>0</td>\n",
              "      <td>38.511767</td>\n",
              "      <td>62092.636516</td>\n",
              "    </tr>\n",
              "  </tbody>\n",
              "</table>\n",
              "<p>10000 rows × 13 columns</p>\n",
              "</div>"
            ],
            "text/plain": [
              "      CreditScore Geography  Gender  ...  Exited  (mean, Age)  (mean, Balance)\n",
              "0             619    France  Female  ...       1    38.511767     62092.636516\n",
              "1             608     Spain  Female  ...       0    38.890997     61818.147763\n",
              "2             502    France  Female  ...       1    38.511767     62092.636516\n",
              "3             699    France  Female  ...       0    38.511767     62092.636516\n",
              "4             850     Spain  Female  ...       0    38.890997     61818.147763\n",
              "...           ...       ...     ...  ...     ...          ...              ...\n",
              "9995          771    France    Male  ...       0    38.511767     62092.636516\n",
              "9996          516    France    Male  ...       0    38.511767     62092.636516\n",
              "9997          709    France  Female  ...       1    38.511767     62092.636516\n",
              "9998          772   Germany    Male  ...       1    39.771622    119730.116134\n",
              "9999          792    France  Female  ...       0    38.511767     62092.636516\n",
              "\n",
              "[10000 rows x 13 columns]"
            ]
          },
          "metadata": {},
          "execution_count": 20
        }
      ]
    },
    {
      "cell_type": "code",
      "metadata": {
        "id": "R110sY22GGbt",
        "colab": {
          "base_uri": "https://localhost:8080/",
          "height": 434
        },
        "outputId": "16d9a51e-7289-4b62-ae14-d44274c42776"
      },
      "source": [
        "#drop column geography\n",
        "mergeDataset.drop(['Geography'], axis=1, inplace=True)\n",
        "mergeDataset"
      ],
      "execution_count": null,
      "outputs": [
        {
          "output_type": "execute_result",
          "data": {
            "text/html": [
              "<div>\n",
              "<style scoped>\n",
              "    .dataframe tbody tr th:only-of-type {\n",
              "        vertical-align: middle;\n",
              "    }\n",
              "\n",
              "    .dataframe tbody tr th {\n",
              "        vertical-align: top;\n",
              "    }\n",
              "\n",
              "    .dataframe thead th {\n",
              "        text-align: right;\n",
              "    }\n",
              "</style>\n",
              "<table border=\"1\" class=\"dataframe\">\n",
              "  <thead>\n",
              "    <tr style=\"text-align: right;\">\n",
              "      <th></th>\n",
              "      <th>CreditScore</th>\n",
              "      <th>Gender</th>\n",
              "      <th>Age</th>\n",
              "      <th>Tenure</th>\n",
              "      <th>Balance</th>\n",
              "      <th>NumOfProducts</th>\n",
              "      <th>HasCrCard</th>\n",
              "      <th>IsActiveMember</th>\n",
              "      <th>EstimatedSalary</th>\n",
              "      <th>Exited</th>\n",
              "      <th>(mean, Age)</th>\n",
              "      <th>(mean, Balance)</th>\n",
              "    </tr>\n",
              "  </thead>\n",
              "  <tbody>\n",
              "    <tr>\n",
              "      <th>0</th>\n",
              "      <td>619</td>\n",
              "      <td>Female</td>\n",
              "      <td>42</td>\n",
              "      <td>2</td>\n",
              "      <td>76485.889288</td>\n",
              "      <td>1</td>\n",
              "      <td>1</td>\n",
              "      <td>1</td>\n",
              "      <td>101348.88</td>\n",
              "      <td>1</td>\n",
              "      <td>38.511767</td>\n",
              "      <td>62092.636516</td>\n",
              "    </tr>\n",
              "    <tr>\n",
              "      <th>1</th>\n",
              "      <td>608</td>\n",
              "      <td>Female</td>\n",
              "      <td>41</td>\n",
              "      <td>1</td>\n",
              "      <td>83807.860000</td>\n",
              "      <td>1</td>\n",
              "      <td>0</td>\n",
              "      <td>1</td>\n",
              "      <td>112542.58</td>\n",
              "      <td>0</td>\n",
              "      <td>38.890997</td>\n",
              "      <td>61818.147763</td>\n",
              "    </tr>\n",
              "    <tr>\n",
              "      <th>2</th>\n",
              "      <td>502</td>\n",
              "      <td>Female</td>\n",
              "      <td>42</td>\n",
              "      <td>8</td>\n",
              "      <td>159660.800000</td>\n",
              "      <td>3</td>\n",
              "      <td>1</td>\n",
              "      <td>0</td>\n",
              "      <td>113931.57</td>\n",
              "      <td>1</td>\n",
              "      <td>38.511767</td>\n",
              "      <td>62092.636516</td>\n",
              "    </tr>\n",
              "    <tr>\n",
              "      <th>3</th>\n",
              "      <td>699</td>\n",
              "      <td>Female</td>\n",
              "      <td>39</td>\n",
              "      <td>1</td>\n",
              "      <td>76485.889288</td>\n",
              "      <td>2</td>\n",
              "      <td>0</td>\n",
              "      <td>0</td>\n",
              "      <td>93826.63</td>\n",
              "      <td>0</td>\n",
              "      <td>38.511767</td>\n",
              "      <td>62092.636516</td>\n",
              "    </tr>\n",
              "    <tr>\n",
              "      <th>4</th>\n",
              "      <td>850</td>\n",
              "      <td>Female</td>\n",
              "      <td>43</td>\n",
              "      <td>2</td>\n",
              "      <td>125510.820000</td>\n",
              "      <td>1</td>\n",
              "      <td>1</td>\n",
              "      <td>1</td>\n",
              "      <td>79084.10</td>\n",
              "      <td>0</td>\n",
              "      <td>38.890997</td>\n",
              "      <td>61818.147763</td>\n",
              "    </tr>\n",
              "    <tr>\n",
              "      <th>...</th>\n",
              "      <td>...</td>\n",
              "      <td>...</td>\n",
              "      <td>...</td>\n",
              "      <td>...</td>\n",
              "      <td>...</td>\n",
              "      <td>...</td>\n",
              "      <td>...</td>\n",
              "      <td>...</td>\n",
              "      <td>...</td>\n",
              "      <td>...</td>\n",
              "      <td>...</td>\n",
              "      <td>...</td>\n",
              "    </tr>\n",
              "    <tr>\n",
              "      <th>9995</th>\n",
              "      <td>771</td>\n",
              "      <td>Male</td>\n",
              "      <td>39</td>\n",
              "      <td>5</td>\n",
              "      <td>76485.889288</td>\n",
              "      <td>2</td>\n",
              "      <td>1</td>\n",
              "      <td>0</td>\n",
              "      <td>96270.64</td>\n",
              "      <td>0</td>\n",
              "      <td>38.511767</td>\n",
              "      <td>62092.636516</td>\n",
              "    </tr>\n",
              "    <tr>\n",
              "      <th>9996</th>\n",
              "      <td>516</td>\n",
              "      <td>Male</td>\n",
              "      <td>35</td>\n",
              "      <td>10</td>\n",
              "      <td>57369.610000</td>\n",
              "      <td>1</td>\n",
              "      <td>1</td>\n",
              "      <td>1</td>\n",
              "      <td>101699.77</td>\n",
              "      <td>0</td>\n",
              "      <td>38.511767</td>\n",
              "      <td>62092.636516</td>\n",
              "    </tr>\n",
              "    <tr>\n",
              "      <th>9997</th>\n",
              "      <td>709</td>\n",
              "      <td>Female</td>\n",
              "      <td>36</td>\n",
              "      <td>7</td>\n",
              "      <td>76485.889288</td>\n",
              "      <td>1</td>\n",
              "      <td>0</td>\n",
              "      <td>1</td>\n",
              "      <td>42085.58</td>\n",
              "      <td>1</td>\n",
              "      <td>38.511767</td>\n",
              "      <td>62092.636516</td>\n",
              "    </tr>\n",
              "    <tr>\n",
              "      <th>9998</th>\n",
              "      <td>772</td>\n",
              "      <td>Male</td>\n",
              "      <td>42</td>\n",
              "      <td>3</td>\n",
              "      <td>75075.310000</td>\n",
              "      <td>2</td>\n",
              "      <td>1</td>\n",
              "      <td>0</td>\n",
              "      <td>92888.52</td>\n",
              "      <td>1</td>\n",
              "      <td>39.771622</td>\n",
              "      <td>119730.116134</td>\n",
              "    </tr>\n",
              "    <tr>\n",
              "      <th>9999</th>\n",
              "      <td>792</td>\n",
              "      <td>Female</td>\n",
              "      <td>28</td>\n",
              "      <td>4</td>\n",
              "      <td>130142.790000</td>\n",
              "      <td>1</td>\n",
              "      <td>1</td>\n",
              "      <td>0</td>\n",
              "      <td>38190.78</td>\n",
              "      <td>0</td>\n",
              "      <td>38.511767</td>\n",
              "      <td>62092.636516</td>\n",
              "    </tr>\n",
              "  </tbody>\n",
              "</table>\n",
              "<p>10000 rows × 12 columns</p>\n",
              "</div>"
            ],
            "text/plain": [
              "      CreditScore  Gender  Age  ...  Exited  (mean, Age)  (mean, Balance)\n",
              "0             619  Female   42  ...       1    38.511767     62092.636516\n",
              "1             608  Female   41  ...       0    38.890997     61818.147763\n",
              "2             502  Female   42  ...       1    38.511767     62092.636516\n",
              "3             699  Female   39  ...       0    38.511767     62092.636516\n",
              "4             850  Female   43  ...       0    38.890997     61818.147763\n",
              "...           ...     ...  ...  ...     ...          ...              ...\n",
              "9995          771    Male   39  ...       0    38.511767     62092.636516\n",
              "9996          516    Male   35  ...       0    38.511767     62092.636516\n",
              "9997          709  Female   36  ...       1    38.511767     62092.636516\n",
              "9998          772    Male   42  ...       1    39.771622    119730.116134\n",
              "9999          792  Female   28  ...       0    38.511767     62092.636516\n",
              "\n",
              "[10000 rows x 12 columns]"
            ]
          },
          "metadata": {},
          "execution_count": 21
        }
      ]
    },
    {
      "cell_type": "code",
      "metadata": {
        "id": "U87Xmi8yGR1T",
        "colab": {
          "base_uri": "https://localhost:8080/",
          "height": 417
        },
        "outputId": "aeaad478-cb81-4d15-90e6-31c4cc9c3e40"
      },
      "source": [
        "#step to change column with tuple to string\n",
        "satu = mergeDataset.drop(['CreditScore', 'Gender', 'Age', 'Tenure', 'Balance', 'NumOfProducts', 'HasCrCard', 'IsActiveMember', 'EstimatedSalary', 'Exited'], axis=1)\n",
        "satu.rename(columns='_'.join, inplace=True)\n",
        "satu.reset_index(inplace=True)\n",
        "satu"
      ],
      "execution_count": null,
      "outputs": [
        {
          "output_type": "execute_result",
          "data": {
            "text/html": [
              "<div>\n",
              "<style scoped>\n",
              "    .dataframe tbody tr th:only-of-type {\n",
              "        vertical-align: middle;\n",
              "    }\n",
              "\n",
              "    .dataframe tbody tr th {\n",
              "        vertical-align: top;\n",
              "    }\n",
              "\n",
              "    .dataframe thead th {\n",
              "        text-align: right;\n",
              "    }\n",
              "</style>\n",
              "<table border=\"1\" class=\"dataframe\">\n",
              "  <thead>\n",
              "    <tr style=\"text-align: right;\">\n",
              "      <th></th>\n",
              "      <th>index</th>\n",
              "      <th>mean_Age</th>\n",
              "      <th>mean_Balance</th>\n",
              "    </tr>\n",
              "  </thead>\n",
              "  <tbody>\n",
              "    <tr>\n",
              "      <th>0</th>\n",
              "      <td>0</td>\n",
              "      <td>38.511767</td>\n",
              "      <td>62092.636516</td>\n",
              "    </tr>\n",
              "    <tr>\n",
              "      <th>1</th>\n",
              "      <td>1</td>\n",
              "      <td>38.890997</td>\n",
              "      <td>61818.147763</td>\n",
              "    </tr>\n",
              "    <tr>\n",
              "      <th>2</th>\n",
              "      <td>2</td>\n",
              "      <td>38.511767</td>\n",
              "      <td>62092.636516</td>\n",
              "    </tr>\n",
              "    <tr>\n",
              "      <th>3</th>\n",
              "      <td>3</td>\n",
              "      <td>38.511767</td>\n",
              "      <td>62092.636516</td>\n",
              "    </tr>\n",
              "    <tr>\n",
              "      <th>4</th>\n",
              "      <td>4</td>\n",
              "      <td>38.890997</td>\n",
              "      <td>61818.147763</td>\n",
              "    </tr>\n",
              "    <tr>\n",
              "      <th>...</th>\n",
              "      <td>...</td>\n",
              "      <td>...</td>\n",
              "      <td>...</td>\n",
              "    </tr>\n",
              "    <tr>\n",
              "      <th>9995</th>\n",
              "      <td>9995</td>\n",
              "      <td>38.511767</td>\n",
              "      <td>62092.636516</td>\n",
              "    </tr>\n",
              "    <tr>\n",
              "      <th>9996</th>\n",
              "      <td>9996</td>\n",
              "      <td>38.511767</td>\n",
              "      <td>62092.636516</td>\n",
              "    </tr>\n",
              "    <tr>\n",
              "      <th>9997</th>\n",
              "      <td>9997</td>\n",
              "      <td>38.511767</td>\n",
              "      <td>62092.636516</td>\n",
              "    </tr>\n",
              "    <tr>\n",
              "      <th>9998</th>\n",
              "      <td>9998</td>\n",
              "      <td>39.771622</td>\n",
              "      <td>119730.116134</td>\n",
              "    </tr>\n",
              "    <tr>\n",
              "      <th>9999</th>\n",
              "      <td>9999</td>\n",
              "      <td>38.511767</td>\n",
              "      <td>62092.636516</td>\n",
              "    </tr>\n",
              "  </tbody>\n",
              "</table>\n",
              "<p>10000 rows × 3 columns</p>\n",
              "</div>"
            ],
            "text/plain": [
              "      index   mean_Age   mean_Balance\n",
              "0         0  38.511767   62092.636516\n",
              "1         1  38.890997   61818.147763\n",
              "2         2  38.511767   62092.636516\n",
              "3         3  38.511767   62092.636516\n",
              "4         4  38.890997   61818.147763\n",
              "...     ...        ...            ...\n",
              "9995   9995  38.511767   62092.636516\n",
              "9996   9996  38.511767   62092.636516\n",
              "9997   9997  38.511767   62092.636516\n",
              "9998   9998  39.771622  119730.116134\n",
              "9999   9999  38.511767   62092.636516\n",
              "\n",
              "[10000 rows x 3 columns]"
            ]
          },
          "metadata": {},
          "execution_count": 22
        }
      ]
    },
    {
      "cell_type": "code",
      "metadata": {
        "id": "F8GdhPOumRaw",
        "colab": {
          "base_uri": "https://localhost:8080/",
          "height": 417
        },
        "outputId": "09d88faf-366f-4642-9f82-6b07bd0996c9"
      },
      "source": [
        "#reset index dataset Churn agar bisa di merge dengan variable satu\n",
        "churn.reset_index(inplace=True)\n",
        "churn"
      ],
      "execution_count": null,
      "outputs": [
        {
          "output_type": "execute_result",
          "data": {
            "text/html": [
              "<div>\n",
              "<style scoped>\n",
              "    .dataframe tbody tr th:only-of-type {\n",
              "        vertical-align: middle;\n",
              "    }\n",
              "\n",
              "    .dataframe tbody tr th {\n",
              "        vertical-align: top;\n",
              "    }\n",
              "\n",
              "    .dataframe thead th {\n",
              "        text-align: right;\n",
              "    }\n",
              "</style>\n",
              "<table border=\"1\" class=\"dataframe\">\n",
              "  <thead>\n",
              "    <tr style=\"text-align: right;\">\n",
              "      <th></th>\n",
              "      <th>index</th>\n",
              "      <th>CreditScore</th>\n",
              "      <th>Geography</th>\n",
              "      <th>Gender</th>\n",
              "      <th>Age</th>\n",
              "      <th>Tenure</th>\n",
              "      <th>Balance</th>\n",
              "      <th>NumOfProducts</th>\n",
              "      <th>HasCrCard</th>\n",
              "      <th>IsActiveMember</th>\n",
              "      <th>EstimatedSalary</th>\n",
              "      <th>Exited</th>\n",
              "    </tr>\n",
              "  </thead>\n",
              "  <tbody>\n",
              "    <tr>\n",
              "      <th>0</th>\n",
              "      <td>0</td>\n",
              "      <td>619</td>\n",
              "      <td>France</td>\n",
              "      <td>Female</td>\n",
              "      <td>42</td>\n",
              "      <td>2</td>\n",
              "      <td>76485.889288</td>\n",
              "      <td>1</td>\n",
              "      <td>1</td>\n",
              "      <td>1</td>\n",
              "      <td>101348.88</td>\n",
              "      <td>1</td>\n",
              "    </tr>\n",
              "    <tr>\n",
              "      <th>1</th>\n",
              "      <td>1</td>\n",
              "      <td>608</td>\n",
              "      <td>Spain</td>\n",
              "      <td>Female</td>\n",
              "      <td>41</td>\n",
              "      <td>1</td>\n",
              "      <td>83807.860000</td>\n",
              "      <td>1</td>\n",
              "      <td>0</td>\n",
              "      <td>1</td>\n",
              "      <td>112542.58</td>\n",
              "      <td>0</td>\n",
              "    </tr>\n",
              "    <tr>\n",
              "      <th>2</th>\n",
              "      <td>2</td>\n",
              "      <td>502</td>\n",
              "      <td>France</td>\n",
              "      <td>Female</td>\n",
              "      <td>42</td>\n",
              "      <td>8</td>\n",
              "      <td>159660.800000</td>\n",
              "      <td>3</td>\n",
              "      <td>1</td>\n",
              "      <td>0</td>\n",
              "      <td>113931.57</td>\n",
              "      <td>1</td>\n",
              "    </tr>\n",
              "    <tr>\n",
              "      <th>3</th>\n",
              "      <td>3</td>\n",
              "      <td>699</td>\n",
              "      <td>France</td>\n",
              "      <td>Female</td>\n",
              "      <td>39</td>\n",
              "      <td>1</td>\n",
              "      <td>76485.889288</td>\n",
              "      <td>2</td>\n",
              "      <td>0</td>\n",
              "      <td>0</td>\n",
              "      <td>93826.63</td>\n",
              "      <td>0</td>\n",
              "    </tr>\n",
              "    <tr>\n",
              "      <th>4</th>\n",
              "      <td>4</td>\n",
              "      <td>850</td>\n",
              "      <td>Spain</td>\n",
              "      <td>Female</td>\n",
              "      <td>43</td>\n",
              "      <td>2</td>\n",
              "      <td>125510.820000</td>\n",
              "      <td>1</td>\n",
              "      <td>1</td>\n",
              "      <td>1</td>\n",
              "      <td>79084.10</td>\n",
              "      <td>0</td>\n",
              "    </tr>\n",
              "    <tr>\n",
              "      <th>...</th>\n",
              "      <td>...</td>\n",
              "      <td>...</td>\n",
              "      <td>...</td>\n",
              "      <td>...</td>\n",
              "      <td>...</td>\n",
              "      <td>...</td>\n",
              "      <td>...</td>\n",
              "      <td>...</td>\n",
              "      <td>...</td>\n",
              "      <td>...</td>\n",
              "      <td>...</td>\n",
              "      <td>...</td>\n",
              "    </tr>\n",
              "    <tr>\n",
              "      <th>9995</th>\n",
              "      <td>9995</td>\n",
              "      <td>771</td>\n",
              "      <td>France</td>\n",
              "      <td>Male</td>\n",
              "      <td>39</td>\n",
              "      <td>5</td>\n",
              "      <td>76485.889288</td>\n",
              "      <td>2</td>\n",
              "      <td>1</td>\n",
              "      <td>0</td>\n",
              "      <td>96270.64</td>\n",
              "      <td>0</td>\n",
              "    </tr>\n",
              "    <tr>\n",
              "      <th>9996</th>\n",
              "      <td>9996</td>\n",
              "      <td>516</td>\n",
              "      <td>France</td>\n",
              "      <td>Male</td>\n",
              "      <td>35</td>\n",
              "      <td>10</td>\n",
              "      <td>57369.610000</td>\n",
              "      <td>1</td>\n",
              "      <td>1</td>\n",
              "      <td>1</td>\n",
              "      <td>101699.77</td>\n",
              "      <td>0</td>\n",
              "    </tr>\n",
              "    <tr>\n",
              "      <th>9997</th>\n",
              "      <td>9997</td>\n",
              "      <td>709</td>\n",
              "      <td>France</td>\n",
              "      <td>Female</td>\n",
              "      <td>36</td>\n",
              "      <td>7</td>\n",
              "      <td>76485.889288</td>\n",
              "      <td>1</td>\n",
              "      <td>0</td>\n",
              "      <td>1</td>\n",
              "      <td>42085.58</td>\n",
              "      <td>1</td>\n",
              "    </tr>\n",
              "    <tr>\n",
              "      <th>9998</th>\n",
              "      <td>9998</td>\n",
              "      <td>772</td>\n",
              "      <td>Germany</td>\n",
              "      <td>Male</td>\n",
              "      <td>42</td>\n",
              "      <td>3</td>\n",
              "      <td>75075.310000</td>\n",
              "      <td>2</td>\n",
              "      <td>1</td>\n",
              "      <td>0</td>\n",
              "      <td>92888.52</td>\n",
              "      <td>1</td>\n",
              "    </tr>\n",
              "    <tr>\n",
              "      <th>9999</th>\n",
              "      <td>9999</td>\n",
              "      <td>792</td>\n",
              "      <td>France</td>\n",
              "      <td>Female</td>\n",
              "      <td>28</td>\n",
              "      <td>4</td>\n",
              "      <td>130142.790000</td>\n",
              "      <td>1</td>\n",
              "      <td>1</td>\n",
              "      <td>0</td>\n",
              "      <td>38190.78</td>\n",
              "      <td>0</td>\n",
              "    </tr>\n",
              "  </tbody>\n",
              "</table>\n",
              "<p>10000 rows × 12 columns</p>\n",
              "</div>"
            ],
            "text/plain": [
              "      index  CreditScore Geography  ... IsActiveMember  EstimatedSalary  Exited\n",
              "0         0          619    France  ...              1        101348.88       1\n",
              "1         1          608     Spain  ...              1        112542.58       0\n",
              "2         2          502    France  ...              0        113931.57       1\n",
              "3         3          699    France  ...              0         93826.63       0\n",
              "4         4          850     Spain  ...              1         79084.10       0\n",
              "...     ...          ...       ...  ...            ...              ...     ...\n",
              "9995   9995          771    France  ...              0         96270.64       0\n",
              "9996   9996          516    France  ...              1        101699.77       0\n",
              "9997   9997          709    France  ...              1         42085.58       1\n",
              "9998   9998          772   Germany  ...              0         92888.52       1\n",
              "9999   9999          792    France  ...              0         38190.78       0\n",
              "\n",
              "[10000 rows x 12 columns]"
            ]
          },
          "metadata": {},
          "execution_count": 23
        }
      ]
    },
    {
      "cell_type": "code",
      "metadata": {
        "id": "AfeK7Pv4mXj7",
        "colab": {
          "base_uri": "https://localhost:8080/",
          "height": 437
        },
        "outputId": "67e97d41-8640-460d-ffea-72343254becc"
      },
      "source": [
        "hasilmerge = pd.merge(churn,satu, how='left', on='index')\n",
        "hasilmerge"
      ],
      "execution_count": null,
      "outputs": [
        {
          "output_type": "execute_result",
          "data": {
            "text/html": [
              "<div>\n",
              "<style scoped>\n",
              "    .dataframe tbody tr th:only-of-type {\n",
              "        vertical-align: middle;\n",
              "    }\n",
              "\n",
              "    .dataframe tbody tr th {\n",
              "        vertical-align: top;\n",
              "    }\n",
              "\n",
              "    .dataframe thead th {\n",
              "        text-align: right;\n",
              "    }\n",
              "</style>\n",
              "<table border=\"1\" class=\"dataframe\">\n",
              "  <thead>\n",
              "    <tr style=\"text-align: right;\">\n",
              "      <th></th>\n",
              "      <th>index</th>\n",
              "      <th>CreditScore</th>\n",
              "      <th>Geography</th>\n",
              "      <th>Gender</th>\n",
              "      <th>Age</th>\n",
              "      <th>Tenure</th>\n",
              "      <th>Balance</th>\n",
              "      <th>NumOfProducts</th>\n",
              "      <th>HasCrCard</th>\n",
              "      <th>IsActiveMember</th>\n",
              "      <th>EstimatedSalary</th>\n",
              "      <th>Exited</th>\n",
              "      <th>mean_Age</th>\n",
              "      <th>mean_Balance</th>\n",
              "    </tr>\n",
              "  </thead>\n",
              "  <tbody>\n",
              "    <tr>\n",
              "      <th>0</th>\n",
              "      <td>0</td>\n",
              "      <td>619</td>\n",
              "      <td>France</td>\n",
              "      <td>Female</td>\n",
              "      <td>42</td>\n",
              "      <td>2</td>\n",
              "      <td>76485.889288</td>\n",
              "      <td>1</td>\n",
              "      <td>1</td>\n",
              "      <td>1</td>\n",
              "      <td>101348.88</td>\n",
              "      <td>1</td>\n",
              "      <td>38.511767</td>\n",
              "      <td>62092.636516</td>\n",
              "    </tr>\n",
              "    <tr>\n",
              "      <th>1</th>\n",
              "      <td>1</td>\n",
              "      <td>608</td>\n",
              "      <td>Spain</td>\n",
              "      <td>Female</td>\n",
              "      <td>41</td>\n",
              "      <td>1</td>\n",
              "      <td>83807.860000</td>\n",
              "      <td>1</td>\n",
              "      <td>0</td>\n",
              "      <td>1</td>\n",
              "      <td>112542.58</td>\n",
              "      <td>0</td>\n",
              "      <td>38.890997</td>\n",
              "      <td>61818.147763</td>\n",
              "    </tr>\n",
              "    <tr>\n",
              "      <th>2</th>\n",
              "      <td>2</td>\n",
              "      <td>502</td>\n",
              "      <td>France</td>\n",
              "      <td>Female</td>\n",
              "      <td>42</td>\n",
              "      <td>8</td>\n",
              "      <td>159660.800000</td>\n",
              "      <td>3</td>\n",
              "      <td>1</td>\n",
              "      <td>0</td>\n",
              "      <td>113931.57</td>\n",
              "      <td>1</td>\n",
              "      <td>38.511767</td>\n",
              "      <td>62092.636516</td>\n",
              "    </tr>\n",
              "    <tr>\n",
              "      <th>3</th>\n",
              "      <td>3</td>\n",
              "      <td>699</td>\n",
              "      <td>France</td>\n",
              "      <td>Female</td>\n",
              "      <td>39</td>\n",
              "      <td>1</td>\n",
              "      <td>76485.889288</td>\n",
              "      <td>2</td>\n",
              "      <td>0</td>\n",
              "      <td>0</td>\n",
              "      <td>93826.63</td>\n",
              "      <td>0</td>\n",
              "      <td>38.511767</td>\n",
              "      <td>62092.636516</td>\n",
              "    </tr>\n",
              "    <tr>\n",
              "      <th>4</th>\n",
              "      <td>4</td>\n",
              "      <td>850</td>\n",
              "      <td>Spain</td>\n",
              "      <td>Female</td>\n",
              "      <td>43</td>\n",
              "      <td>2</td>\n",
              "      <td>125510.820000</td>\n",
              "      <td>1</td>\n",
              "      <td>1</td>\n",
              "      <td>1</td>\n",
              "      <td>79084.10</td>\n",
              "      <td>0</td>\n",
              "      <td>38.890997</td>\n",
              "      <td>61818.147763</td>\n",
              "    </tr>\n",
              "    <tr>\n",
              "      <th>...</th>\n",
              "      <td>...</td>\n",
              "      <td>...</td>\n",
              "      <td>...</td>\n",
              "      <td>...</td>\n",
              "      <td>...</td>\n",
              "      <td>...</td>\n",
              "      <td>...</td>\n",
              "      <td>...</td>\n",
              "      <td>...</td>\n",
              "      <td>...</td>\n",
              "      <td>...</td>\n",
              "      <td>...</td>\n",
              "      <td>...</td>\n",
              "      <td>...</td>\n",
              "    </tr>\n",
              "    <tr>\n",
              "      <th>9995</th>\n",
              "      <td>9995</td>\n",
              "      <td>771</td>\n",
              "      <td>France</td>\n",
              "      <td>Male</td>\n",
              "      <td>39</td>\n",
              "      <td>5</td>\n",
              "      <td>76485.889288</td>\n",
              "      <td>2</td>\n",
              "      <td>1</td>\n",
              "      <td>0</td>\n",
              "      <td>96270.64</td>\n",
              "      <td>0</td>\n",
              "      <td>38.511767</td>\n",
              "      <td>62092.636516</td>\n",
              "    </tr>\n",
              "    <tr>\n",
              "      <th>9996</th>\n",
              "      <td>9996</td>\n",
              "      <td>516</td>\n",
              "      <td>France</td>\n",
              "      <td>Male</td>\n",
              "      <td>35</td>\n",
              "      <td>10</td>\n",
              "      <td>57369.610000</td>\n",
              "      <td>1</td>\n",
              "      <td>1</td>\n",
              "      <td>1</td>\n",
              "      <td>101699.77</td>\n",
              "      <td>0</td>\n",
              "      <td>38.511767</td>\n",
              "      <td>62092.636516</td>\n",
              "    </tr>\n",
              "    <tr>\n",
              "      <th>9997</th>\n",
              "      <td>9997</td>\n",
              "      <td>709</td>\n",
              "      <td>France</td>\n",
              "      <td>Female</td>\n",
              "      <td>36</td>\n",
              "      <td>7</td>\n",
              "      <td>76485.889288</td>\n",
              "      <td>1</td>\n",
              "      <td>0</td>\n",
              "      <td>1</td>\n",
              "      <td>42085.58</td>\n",
              "      <td>1</td>\n",
              "      <td>38.511767</td>\n",
              "      <td>62092.636516</td>\n",
              "    </tr>\n",
              "    <tr>\n",
              "      <th>9998</th>\n",
              "      <td>9998</td>\n",
              "      <td>772</td>\n",
              "      <td>Germany</td>\n",
              "      <td>Male</td>\n",
              "      <td>42</td>\n",
              "      <td>3</td>\n",
              "      <td>75075.310000</td>\n",
              "      <td>2</td>\n",
              "      <td>1</td>\n",
              "      <td>0</td>\n",
              "      <td>92888.52</td>\n",
              "      <td>1</td>\n",
              "      <td>39.771622</td>\n",
              "      <td>119730.116134</td>\n",
              "    </tr>\n",
              "    <tr>\n",
              "      <th>9999</th>\n",
              "      <td>9999</td>\n",
              "      <td>792</td>\n",
              "      <td>France</td>\n",
              "      <td>Female</td>\n",
              "      <td>28</td>\n",
              "      <td>4</td>\n",
              "      <td>130142.790000</td>\n",
              "      <td>1</td>\n",
              "      <td>1</td>\n",
              "      <td>0</td>\n",
              "      <td>38190.78</td>\n",
              "      <td>0</td>\n",
              "      <td>38.511767</td>\n",
              "      <td>62092.636516</td>\n",
              "    </tr>\n",
              "  </tbody>\n",
              "</table>\n",
              "<p>10000 rows × 14 columns</p>\n",
              "</div>"
            ],
            "text/plain": [
              "      index  CreditScore Geography  ... Exited   mean_Age   mean_Balance\n",
              "0         0          619    France  ...      1  38.511767   62092.636516\n",
              "1         1          608     Spain  ...      0  38.890997   61818.147763\n",
              "2         2          502    France  ...      1  38.511767   62092.636516\n",
              "3         3          699    France  ...      0  38.511767   62092.636516\n",
              "4         4          850     Spain  ...      0  38.890997   61818.147763\n",
              "...     ...          ...       ...  ...    ...        ...            ...\n",
              "9995   9995          771    France  ...      0  38.511767   62092.636516\n",
              "9996   9996          516    France  ...      0  38.511767   62092.636516\n",
              "9997   9997          709    France  ...      1  38.511767   62092.636516\n",
              "9998   9998          772   Germany  ...      1  39.771622  119730.116134\n",
              "9999   9999          792    France  ...      0  38.511767   62092.636516\n",
              "\n",
              "[10000 rows x 14 columns]"
            ]
          },
          "metadata": {},
          "execution_count": 24
        }
      ]
    },
    {
      "cell_type": "code",
      "metadata": {
        "id": "livV332EGLtI",
        "colab": {
          "base_uri": "https://localhost:8080/",
          "height": 437
        },
        "outputId": "47301891-e365-4f25-cd07-c7ad751b40b6"
      },
      "source": [
        "mergeDataset = pd.get_dummies(hasilmerge, columns=['Gender'], drop_first=True)\n",
        "mergeDataset.drop(['Geography', 'index'], axis=1, inplace=True)\n",
        "mergeDataset"
      ],
      "execution_count": null,
      "outputs": [
        {
          "output_type": "execute_result",
          "data": {
            "text/html": [
              "<div>\n",
              "<style scoped>\n",
              "    .dataframe tbody tr th:only-of-type {\n",
              "        vertical-align: middle;\n",
              "    }\n",
              "\n",
              "    .dataframe tbody tr th {\n",
              "        vertical-align: top;\n",
              "    }\n",
              "\n",
              "    .dataframe thead th {\n",
              "        text-align: right;\n",
              "    }\n",
              "</style>\n",
              "<table border=\"1\" class=\"dataframe\">\n",
              "  <thead>\n",
              "    <tr style=\"text-align: right;\">\n",
              "      <th></th>\n",
              "      <th>CreditScore</th>\n",
              "      <th>Age</th>\n",
              "      <th>Tenure</th>\n",
              "      <th>Balance</th>\n",
              "      <th>NumOfProducts</th>\n",
              "      <th>HasCrCard</th>\n",
              "      <th>IsActiveMember</th>\n",
              "      <th>EstimatedSalary</th>\n",
              "      <th>Exited</th>\n",
              "      <th>mean_Age</th>\n",
              "      <th>mean_Balance</th>\n",
              "      <th>Gender_Male</th>\n",
              "    </tr>\n",
              "  </thead>\n",
              "  <tbody>\n",
              "    <tr>\n",
              "      <th>0</th>\n",
              "      <td>619</td>\n",
              "      <td>42</td>\n",
              "      <td>2</td>\n",
              "      <td>76485.889288</td>\n",
              "      <td>1</td>\n",
              "      <td>1</td>\n",
              "      <td>1</td>\n",
              "      <td>101348.88</td>\n",
              "      <td>1</td>\n",
              "      <td>38.511767</td>\n",
              "      <td>62092.636516</td>\n",
              "      <td>0</td>\n",
              "    </tr>\n",
              "    <tr>\n",
              "      <th>1</th>\n",
              "      <td>608</td>\n",
              "      <td>41</td>\n",
              "      <td>1</td>\n",
              "      <td>83807.860000</td>\n",
              "      <td>1</td>\n",
              "      <td>0</td>\n",
              "      <td>1</td>\n",
              "      <td>112542.58</td>\n",
              "      <td>0</td>\n",
              "      <td>38.890997</td>\n",
              "      <td>61818.147763</td>\n",
              "      <td>0</td>\n",
              "    </tr>\n",
              "    <tr>\n",
              "      <th>2</th>\n",
              "      <td>502</td>\n",
              "      <td>42</td>\n",
              "      <td>8</td>\n",
              "      <td>159660.800000</td>\n",
              "      <td>3</td>\n",
              "      <td>1</td>\n",
              "      <td>0</td>\n",
              "      <td>113931.57</td>\n",
              "      <td>1</td>\n",
              "      <td>38.511767</td>\n",
              "      <td>62092.636516</td>\n",
              "      <td>0</td>\n",
              "    </tr>\n",
              "    <tr>\n",
              "      <th>3</th>\n",
              "      <td>699</td>\n",
              "      <td>39</td>\n",
              "      <td>1</td>\n",
              "      <td>76485.889288</td>\n",
              "      <td>2</td>\n",
              "      <td>0</td>\n",
              "      <td>0</td>\n",
              "      <td>93826.63</td>\n",
              "      <td>0</td>\n",
              "      <td>38.511767</td>\n",
              "      <td>62092.636516</td>\n",
              "      <td>0</td>\n",
              "    </tr>\n",
              "    <tr>\n",
              "      <th>4</th>\n",
              "      <td>850</td>\n",
              "      <td>43</td>\n",
              "      <td>2</td>\n",
              "      <td>125510.820000</td>\n",
              "      <td>1</td>\n",
              "      <td>1</td>\n",
              "      <td>1</td>\n",
              "      <td>79084.10</td>\n",
              "      <td>0</td>\n",
              "      <td>38.890997</td>\n",
              "      <td>61818.147763</td>\n",
              "      <td>0</td>\n",
              "    </tr>\n",
              "    <tr>\n",
              "      <th>...</th>\n",
              "      <td>...</td>\n",
              "      <td>...</td>\n",
              "      <td>...</td>\n",
              "      <td>...</td>\n",
              "      <td>...</td>\n",
              "      <td>...</td>\n",
              "      <td>...</td>\n",
              "      <td>...</td>\n",
              "      <td>...</td>\n",
              "      <td>...</td>\n",
              "      <td>...</td>\n",
              "      <td>...</td>\n",
              "    </tr>\n",
              "    <tr>\n",
              "      <th>9995</th>\n",
              "      <td>771</td>\n",
              "      <td>39</td>\n",
              "      <td>5</td>\n",
              "      <td>76485.889288</td>\n",
              "      <td>2</td>\n",
              "      <td>1</td>\n",
              "      <td>0</td>\n",
              "      <td>96270.64</td>\n",
              "      <td>0</td>\n",
              "      <td>38.511767</td>\n",
              "      <td>62092.636516</td>\n",
              "      <td>1</td>\n",
              "    </tr>\n",
              "    <tr>\n",
              "      <th>9996</th>\n",
              "      <td>516</td>\n",
              "      <td>35</td>\n",
              "      <td>10</td>\n",
              "      <td>57369.610000</td>\n",
              "      <td>1</td>\n",
              "      <td>1</td>\n",
              "      <td>1</td>\n",
              "      <td>101699.77</td>\n",
              "      <td>0</td>\n",
              "      <td>38.511767</td>\n",
              "      <td>62092.636516</td>\n",
              "      <td>1</td>\n",
              "    </tr>\n",
              "    <tr>\n",
              "      <th>9997</th>\n",
              "      <td>709</td>\n",
              "      <td>36</td>\n",
              "      <td>7</td>\n",
              "      <td>76485.889288</td>\n",
              "      <td>1</td>\n",
              "      <td>0</td>\n",
              "      <td>1</td>\n",
              "      <td>42085.58</td>\n",
              "      <td>1</td>\n",
              "      <td>38.511767</td>\n",
              "      <td>62092.636516</td>\n",
              "      <td>0</td>\n",
              "    </tr>\n",
              "    <tr>\n",
              "      <th>9998</th>\n",
              "      <td>772</td>\n",
              "      <td>42</td>\n",
              "      <td>3</td>\n",
              "      <td>75075.310000</td>\n",
              "      <td>2</td>\n",
              "      <td>1</td>\n",
              "      <td>0</td>\n",
              "      <td>92888.52</td>\n",
              "      <td>1</td>\n",
              "      <td>39.771622</td>\n",
              "      <td>119730.116134</td>\n",
              "      <td>1</td>\n",
              "    </tr>\n",
              "    <tr>\n",
              "      <th>9999</th>\n",
              "      <td>792</td>\n",
              "      <td>28</td>\n",
              "      <td>4</td>\n",
              "      <td>130142.790000</td>\n",
              "      <td>1</td>\n",
              "      <td>1</td>\n",
              "      <td>0</td>\n",
              "      <td>38190.78</td>\n",
              "      <td>0</td>\n",
              "      <td>38.511767</td>\n",
              "      <td>62092.636516</td>\n",
              "      <td>0</td>\n",
              "    </tr>\n",
              "  </tbody>\n",
              "</table>\n",
              "<p>10000 rows × 12 columns</p>\n",
              "</div>"
            ],
            "text/plain": [
              "      CreditScore  Age  Tenure  ...   mean_Age   mean_Balance  Gender_Male\n",
              "0             619   42       2  ...  38.511767   62092.636516            0\n",
              "1             608   41       1  ...  38.890997   61818.147763            0\n",
              "2             502   42       8  ...  38.511767   62092.636516            0\n",
              "3             699   39       1  ...  38.511767   62092.636516            0\n",
              "4             850   43       2  ...  38.890997   61818.147763            0\n",
              "...           ...  ...     ...  ...        ...            ...          ...\n",
              "9995          771   39       5  ...  38.511767   62092.636516            1\n",
              "9996          516   35      10  ...  38.511767   62092.636516            1\n",
              "9997          709   36       7  ...  38.511767   62092.636516            0\n",
              "9998          772   42       3  ...  39.771622  119730.116134            1\n",
              "9999          792   28       4  ...  38.511767   62092.636516            0\n",
              "\n",
              "[10000 rows x 12 columns]"
            ]
          },
          "metadata": {},
          "execution_count": 25
        }
      ]
    },
    {
      "cell_type": "markdown",
      "metadata": {
        "id": "dIKrX2eUo9BD"
      },
      "source": [
        "## **Check Outlier**"
      ]
    },
    {
      "cell_type": "code",
      "metadata": {
        "colab": {
          "base_uri": "https://localhost:8080/"
        },
        "id": "DwexdjtSSJSw",
        "outputId": "c890c707-fb9e-44c8-8c3e-f1f58d450a78"
      },
      "source": [
        "# Inter-Quantile Range\n",
        "Q1 = mergeDataset[\"CreditScore\"].quantile(q = 0.25)\n",
        "Q3 = mergeDataset[\"CreditScore\"].quantile(q = 0.75)\n",
        "\n",
        "IQR = Q3 - Q1\n",
        "# Outlier\n",
        "upper_inner_fence = Q3 + 1.5 * IQR\n",
        "lower_inner_fence = Q1 - 1.5 * IQR\n",
        "print(\"Above upper outer fence:\")\n",
        "mergeDataset[\"CreditScore\"][mergeDataset[\"CreditScore\"] > upper_inner_fence]\n",
        "print(\"Below lower inner fence:\")\n",
        "mergeDataset[\"CreditScore\"][mergeDataset[\"CreditScore\"] < lower_inner_fence]"
      ],
      "execution_count": null,
      "outputs": [
        {
          "output_type": "stream",
          "name": "stdout",
          "text": [
            "Above upper outer fence:\n",
            "Below lower inner fence:\n"
          ]
        },
        {
          "output_type": "execute_result",
          "data": {
            "text/plain": [
              "7       376\n",
              "942     376\n",
              "1193    363\n",
              "1405    359\n",
              "1631    350\n",
              "1838    350\n",
              "1962    358\n",
              "2473    351\n",
              "2579    365\n",
              "8154    367\n",
              "8723    350\n",
              "8762    350\n",
              "9210    382\n",
              "9356    373\n",
              "9624    350\n",
              "Name: CreditScore, dtype: int64"
            ]
          },
          "metadata": {},
          "execution_count": 26
        }
      ]
    },
    {
      "cell_type": "code",
      "metadata": {
        "id": "-XrWztKaacKg",
        "colab": {
          "base_uri": "https://localhost:8080/"
        },
        "outputId": "03921a61-8c4f-40ed-cd61-cfa240e0ab7a"
      },
      "source": [
        "# change value of creditscore outlier with creditscore mean\n",
        "for i in mergeDataset[\"CreditScore\"][mergeDataset[\"CreditScore\"] < lower_inner_fence]:\n",
        "  mergeDataset['CreditScore'].replace(i, mergeDataset['CreditScore'].mean(), inplace=True)\n",
        "\n",
        "mergeDataset['CreditScore'][mergeDataset[\"CreditScore\"] < lower_inner_fence]"
      ],
      "execution_count": null,
      "outputs": [
        {
          "output_type": "execute_result",
          "data": {
            "text/plain": [
              "Series([], Name: CreditScore, dtype: float64)"
            ]
          },
          "metadata": {},
          "execution_count": 27
        }
      ]
    },
    {
      "cell_type": "code",
      "metadata": {
        "colab": {
          "base_uri": "https://localhost:8080/"
        },
        "id": "BeeYN9ADcToz",
        "outputId": "c58cb39a-9f7e-406f-c207-eaecda43506e"
      },
      "source": [
        "# Inter-Quantile Range\n",
        "Q1 = mergeDataset[\"Balance\"].quantile(q = 0.25)\n",
        "Q3 = mergeDataset[\"Balance\"].quantile(q = 0.75)\n",
        "\n",
        "IQR = Q3 - Q1\n",
        "# Outlier\n",
        "upper_inner_fence = Q3 + 1.5 * IQR\n",
        "lower_inner_fence = Q1 - 1.5 * IQR\n",
        "print(\"Above upper outer fence:\")\n",
        "mergeDataset[\"Balance\"][mergeDataset[\"Balance\"] > upper_inner_fence]\n",
        "print(\"Below lower inner fence:\")\n",
        "mergeDataset[\"Balance\"][mergeDataset[\"Balance\"] < lower_inner_fence]"
      ],
      "execution_count": null,
      "outputs": [
        {
          "output_type": "stream",
          "name": "stdout",
          "text": [
            "Above upper outer fence:\n",
            "Below lower inner fence:\n"
          ]
        },
        {
          "output_type": "execute_result",
          "data": {
            "text/plain": [
              "Series([], Name: Balance, dtype: float64)"
            ]
          },
          "metadata": {},
          "execution_count": 28
        }
      ]
    },
    {
      "cell_type": "code",
      "metadata": {
        "colab": {
          "base_uri": "https://localhost:8080/"
        },
        "id": "ktr--F5SvF5u",
        "outputId": "d1af2c04-123e-41c8-8e29-d4e1a0c991c1"
      },
      "source": [
        "# Inter-Quantile Range\n",
        "Q1 = mergeDataset[\"Age\"].quantile(q = 0.25)\n",
        "Q3 = mergeDataset[\"Age\"].quantile(q = 0.75)\n",
        "\n",
        "IQR = Q3 - Q1\n",
        "# Outlier\n",
        "upper_inner_fence = Q3 + 1.5 * IQR\n",
        "lower_inner_fence = Q1 - 1.5 * IQR\n",
        "print(\"Above upper outer fence:\")\n",
        "mergeDataset[\"Age\"][mergeDataset[\"Age\"] > upper_inner_fence]\n",
        "print(\"Below lower inner fence:\")\n",
        "mergeDataset[\"Age\"][mergeDataset[\"Age\"] < lower_inner_fence]"
      ],
      "execution_count": null,
      "outputs": [
        {
          "output_type": "stream",
          "name": "stdout",
          "text": [
            "Above upper outer fence:\n",
            "Below lower inner fence:\n"
          ]
        },
        {
          "output_type": "execute_result",
          "data": {
            "text/plain": [
              "Series([], Name: Age, dtype: int64)"
            ]
          },
          "metadata": {},
          "execution_count": 29
        }
      ]
    },
    {
      "cell_type": "code",
      "metadata": {
        "colab": {
          "base_uri": "https://localhost:8080/"
        },
        "id": "yyP2h0gHvNTB",
        "outputId": "1db8f8c9-ad8d-4b57-e06a-0957e1ab09aa"
      },
      "source": [
        "# Inter-Quantile Range\n",
        "Q1 = mergeDataset[\"Tenure\"].quantile(q = 0.25)\n",
        "Q3 = mergeDataset[\"Tenure\"].quantile(q = 0.75)\n",
        "\n",
        "IQR = Q3 - Q1\n",
        "# Outlier\n",
        "upper_inner_fence = Q3 + 1.5 * IQR\n",
        "lower_inner_fence = Q1 - 1.5 * IQR\n",
        "print(\"Above upper outer fence:\")\n",
        "mergeDataset[\"Tenure\"][mergeDataset[\"Tenure\"] > upper_inner_fence]\n",
        "print(\"Below lower inner fence:\")\n",
        "mergeDataset[\"Tenure\"][mergeDataset[\"Tenure\"] < lower_inner_fence]"
      ],
      "execution_count": null,
      "outputs": [
        {
          "output_type": "stream",
          "name": "stdout",
          "text": [
            "Above upper outer fence:\n",
            "Below lower inner fence:\n"
          ]
        },
        {
          "output_type": "execute_result",
          "data": {
            "text/plain": [
              "Series([], Name: Tenure, dtype: int64)"
            ]
          },
          "metadata": {},
          "execution_count": 30
        }
      ]
    },
    {
      "cell_type": "code",
      "metadata": {
        "colab": {
          "base_uri": "https://localhost:8080/"
        },
        "id": "f3e_sUDevU5n",
        "outputId": "0aedad51-f199-4366-c388-c268e4948f0e"
      },
      "source": [
        "# Inter-Quantile Range\n",
        "Q1 = mergeDataset[\"EstimatedSalary\"].quantile(q = 0.25)\n",
        "Q3 = mergeDataset[\"EstimatedSalary\"].quantile(q = 0.75)\n",
        "\n",
        "IQR = Q3 - Q1\n",
        "# Outlier\n",
        "upper_inner_fence = Q3 + 1.5 * IQR\n",
        "lower_inner_fence = Q1 - 1.5 * IQR\n",
        "print(\"Above upper outer fence:\")\n",
        "mergeDataset[\"EstimatedSalary\"][mergeDataset[\"EstimatedSalary\"] > upper_inner_fence]\n",
        "print(\"Below lower inner fence:\")\n",
        "mergeDataset[\"EstimatedSalary\"][mergeDataset[\"EstimatedSalary\"] < lower_inner_fence]"
      ],
      "execution_count": null,
      "outputs": [
        {
          "output_type": "stream",
          "name": "stdout",
          "text": [
            "Above upper outer fence:\n",
            "Below lower inner fence:\n"
          ]
        },
        {
          "output_type": "execute_result",
          "data": {
            "text/plain": [
              "Series([], Name: EstimatedSalary, dtype: float64)"
            ]
          },
          "metadata": {},
          "execution_count": 31
        }
      ]
    },
    {
      "cell_type": "code",
      "metadata": {
        "colab": {
          "base_uri": "https://localhost:8080/"
        },
        "id": "9-rbtug70EdV",
        "outputId": "ce16580d-44c5-4b04-c092-fc95722c443b"
      },
      "source": [
        "# Inter-Quantile Range\n",
        "Q1 = mergeDataset[\"NumOfProducts\"].quantile(q = 0.25)\n",
        "Q3 = mergeDataset[\"NumOfProducts\"].quantile(q = 0.75)\n",
        "\n",
        "IQR = Q3 - Q1\n",
        "# Outlier\n",
        "upper_inner_fence = Q3 + 1.5 * IQR\n",
        "lower_inner_fence = Q1 - 1.5 * IQR\n",
        "\n",
        "\n",
        "print(\"Above upper outer fence:\")\n",
        "mergeDataset[\"NumOfProducts\"][mergeDataset[\"NumOfProducts\"] > upper_inner_fence]\n",
        "print(\"Below lower inner fence:\")\n",
        "mergeDataset[\"NumOfProducts\"][mergeDataset[\"NumOfProducts\"] < lower_inner_fence]"
      ],
      "execution_count": null,
      "outputs": [
        {
          "output_type": "stream",
          "name": "stdout",
          "text": [
            "Above upper outer fence:\n",
            "Below lower inner fence:\n"
          ]
        },
        {
          "output_type": "execute_result",
          "data": {
            "text/plain": [
              "Series([], Name: NumOfProducts, dtype: int64)"
            ]
          },
          "metadata": {},
          "execution_count": 32
        }
      ]
    },
    {
      "cell_type": "markdown",
      "metadata": {
        "id": "2uTfHoAbpmdV"
      },
      "source": [
        "## **Final dataset**"
      ]
    },
    {
      "cell_type": "code",
      "metadata": {
        "colab": {
          "base_uri": "https://localhost:8080/",
          "height": 437
        },
        "id": "fgDe5ZojqznA",
        "outputId": "16f78431-90e1-48ee-d8d8-cd460dd3efcd"
      },
      "source": [
        "mergeDataset"
      ],
      "execution_count": null,
      "outputs": [
        {
          "output_type": "execute_result",
          "data": {
            "text/html": [
              "<div>\n",
              "<style scoped>\n",
              "    .dataframe tbody tr th:only-of-type {\n",
              "        vertical-align: middle;\n",
              "    }\n",
              "\n",
              "    .dataframe tbody tr th {\n",
              "        vertical-align: top;\n",
              "    }\n",
              "\n",
              "    .dataframe thead th {\n",
              "        text-align: right;\n",
              "    }\n",
              "</style>\n",
              "<table border=\"1\" class=\"dataframe\">\n",
              "  <thead>\n",
              "    <tr style=\"text-align: right;\">\n",
              "      <th></th>\n",
              "      <th>CreditScore</th>\n",
              "      <th>Age</th>\n",
              "      <th>Tenure</th>\n",
              "      <th>Balance</th>\n",
              "      <th>NumOfProducts</th>\n",
              "      <th>HasCrCard</th>\n",
              "      <th>IsActiveMember</th>\n",
              "      <th>EstimatedSalary</th>\n",
              "      <th>Exited</th>\n",
              "      <th>mean_Age</th>\n",
              "      <th>mean_Balance</th>\n",
              "      <th>Gender_Male</th>\n",
              "    </tr>\n",
              "  </thead>\n",
              "  <tbody>\n",
              "    <tr>\n",
              "      <th>0</th>\n",
              "      <td>619.0</td>\n",
              "      <td>42</td>\n",
              "      <td>2</td>\n",
              "      <td>76485.889288</td>\n",
              "      <td>1</td>\n",
              "      <td>1</td>\n",
              "      <td>1</td>\n",
              "      <td>101348.88</td>\n",
              "      <td>1</td>\n",
              "      <td>38.511767</td>\n",
              "      <td>62092.636516</td>\n",
              "      <td>0</td>\n",
              "    </tr>\n",
              "    <tr>\n",
              "      <th>1</th>\n",
              "      <td>608.0</td>\n",
              "      <td>41</td>\n",
              "      <td>1</td>\n",
              "      <td>83807.860000</td>\n",
              "      <td>1</td>\n",
              "      <td>0</td>\n",
              "      <td>1</td>\n",
              "      <td>112542.58</td>\n",
              "      <td>0</td>\n",
              "      <td>38.890997</td>\n",
              "      <td>61818.147763</td>\n",
              "      <td>0</td>\n",
              "    </tr>\n",
              "    <tr>\n",
              "      <th>2</th>\n",
              "      <td>502.0</td>\n",
              "      <td>42</td>\n",
              "      <td>8</td>\n",
              "      <td>159660.800000</td>\n",
              "      <td>3</td>\n",
              "      <td>1</td>\n",
              "      <td>0</td>\n",
              "      <td>113931.57</td>\n",
              "      <td>1</td>\n",
              "      <td>38.511767</td>\n",
              "      <td>62092.636516</td>\n",
              "      <td>0</td>\n",
              "    </tr>\n",
              "    <tr>\n",
              "      <th>3</th>\n",
              "      <td>699.0</td>\n",
              "      <td>39</td>\n",
              "      <td>1</td>\n",
              "      <td>76485.889288</td>\n",
              "      <td>2</td>\n",
              "      <td>0</td>\n",
              "      <td>0</td>\n",
              "      <td>93826.63</td>\n",
              "      <td>0</td>\n",
              "      <td>38.511767</td>\n",
              "      <td>62092.636516</td>\n",
              "      <td>0</td>\n",
              "    </tr>\n",
              "    <tr>\n",
              "      <th>4</th>\n",
              "      <td>850.0</td>\n",
              "      <td>43</td>\n",
              "      <td>2</td>\n",
              "      <td>125510.820000</td>\n",
              "      <td>1</td>\n",
              "      <td>1</td>\n",
              "      <td>1</td>\n",
              "      <td>79084.10</td>\n",
              "      <td>0</td>\n",
              "      <td>38.890997</td>\n",
              "      <td>61818.147763</td>\n",
              "      <td>0</td>\n",
              "    </tr>\n",
              "    <tr>\n",
              "      <th>...</th>\n",
              "      <td>...</td>\n",
              "      <td>...</td>\n",
              "      <td>...</td>\n",
              "      <td>...</td>\n",
              "      <td>...</td>\n",
              "      <td>...</td>\n",
              "      <td>...</td>\n",
              "      <td>...</td>\n",
              "      <td>...</td>\n",
              "      <td>...</td>\n",
              "      <td>...</td>\n",
              "      <td>...</td>\n",
              "    </tr>\n",
              "    <tr>\n",
              "      <th>9995</th>\n",
              "      <td>771.0</td>\n",
              "      <td>39</td>\n",
              "      <td>5</td>\n",
              "      <td>76485.889288</td>\n",
              "      <td>2</td>\n",
              "      <td>1</td>\n",
              "      <td>0</td>\n",
              "      <td>96270.64</td>\n",
              "      <td>0</td>\n",
              "      <td>38.511767</td>\n",
              "      <td>62092.636516</td>\n",
              "      <td>1</td>\n",
              "    </tr>\n",
              "    <tr>\n",
              "      <th>9996</th>\n",
              "      <td>516.0</td>\n",
              "      <td>35</td>\n",
              "      <td>10</td>\n",
              "      <td>57369.610000</td>\n",
              "      <td>1</td>\n",
              "      <td>1</td>\n",
              "      <td>1</td>\n",
              "      <td>101699.77</td>\n",
              "      <td>0</td>\n",
              "      <td>38.511767</td>\n",
              "      <td>62092.636516</td>\n",
              "      <td>1</td>\n",
              "    </tr>\n",
              "    <tr>\n",
              "      <th>9997</th>\n",
              "      <td>709.0</td>\n",
              "      <td>36</td>\n",
              "      <td>7</td>\n",
              "      <td>76485.889288</td>\n",
              "      <td>1</td>\n",
              "      <td>0</td>\n",
              "      <td>1</td>\n",
              "      <td>42085.58</td>\n",
              "      <td>1</td>\n",
              "      <td>38.511767</td>\n",
              "      <td>62092.636516</td>\n",
              "      <td>0</td>\n",
              "    </tr>\n",
              "    <tr>\n",
              "      <th>9998</th>\n",
              "      <td>772.0</td>\n",
              "      <td>42</td>\n",
              "      <td>3</td>\n",
              "      <td>75075.310000</td>\n",
              "      <td>2</td>\n",
              "      <td>1</td>\n",
              "      <td>0</td>\n",
              "      <td>92888.52</td>\n",
              "      <td>1</td>\n",
              "      <td>39.771622</td>\n",
              "      <td>119730.116134</td>\n",
              "      <td>1</td>\n",
              "    </tr>\n",
              "    <tr>\n",
              "      <th>9999</th>\n",
              "      <td>792.0</td>\n",
              "      <td>28</td>\n",
              "      <td>4</td>\n",
              "      <td>130142.790000</td>\n",
              "      <td>1</td>\n",
              "      <td>1</td>\n",
              "      <td>0</td>\n",
              "      <td>38190.78</td>\n",
              "      <td>0</td>\n",
              "      <td>38.511767</td>\n",
              "      <td>62092.636516</td>\n",
              "      <td>0</td>\n",
              "    </tr>\n",
              "  </tbody>\n",
              "</table>\n",
              "<p>10000 rows × 12 columns</p>\n",
              "</div>"
            ],
            "text/plain": [
              "      CreditScore  Age  Tenure  ...   mean_Age   mean_Balance  Gender_Male\n",
              "0           619.0   42       2  ...  38.511767   62092.636516            0\n",
              "1           608.0   41       1  ...  38.890997   61818.147763            0\n",
              "2           502.0   42       8  ...  38.511767   62092.636516            0\n",
              "3           699.0   39       1  ...  38.511767   62092.636516            0\n",
              "4           850.0   43       2  ...  38.890997   61818.147763            0\n",
              "...           ...  ...     ...  ...        ...            ...          ...\n",
              "9995        771.0   39       5  ...  38.511767   62092.636516            1\n",
              "9996        516.0   35      10  ...  38.511767   62092.636516            1\n",
              "9997        709.0   36       7  ...  38.511767   62092.636516            0\n",
              "9998        772.0   42       3  ...  39.771622  119730.116134            1\n",
              "9999        792.0   28       4  ...  38.511767   62092.636516            0\n",
              "\n",
              "[10000 rows x 12 columns]"
            ]
          },
          "metadata": {},
          "execution_count": 33
        }
      ]
    },
    {
      "cell_type": "code",
      "metadata": {
        "id": "tGeaQc46zGOS"
      },
      "source": [
        "def classification_eval (aktual, prediksi, name):\n",
        "    cm = confusion_matrix(aktual, prediksi)\n",
        "    tp = cm[1][1]\n",
        "    tn = cm[0][0]\n",
        "    fp = cm[0][1]\n",
        "    fn = cm[1][0]\n",
        "    \n",
        "    accuracy = round((tp+tn) / (tp+tn+fp+fn) * 100, 2)\n",
        "    precision = round((tp) / (tp+fp) * 100, 2)\n",
        "    recall = round((tp) / (tp+fn) * 100, 2)\n",
        "    specificity = round((tn) / (tn+fp) * 100, 2)\n",
        "    npv = round((tn) / (tn+fn) * 100, 2)\n",
        "    fscore = round((2 * precision * recall)/ (precision + recall),2)\n",
        "    \n",
        "    print('Evaluation Model:', name)\n",
        "    print(cm)\n",
        "    print('Accuracy   :', accuracy, '%')\n",
        "    print('Precision  :', precision, '%')\n",
        "    print('Recall     :', recall, '%')\n",
        "    print('Specificity:', specificity, '%')\n",
        "    print('NPV        :', npv, '%')\n",
        "    print('F-Score    :', fscore, '%')\n"
      ],
      "execution_count": null,
      "outputs": []
    },
    {
      "cell_type": "code",
      "metadata": {
        "id": "uQQQCTYHGirO"
      },
      "source": [
        "X = mergeDataset.drop(['Exited', 'CreditScore'], axis=1)\n",
        "y = mergeDataset['Exited']"
      ],
      "execution_count": null,
      "outputs": []
    },
    {
      "cell_type": "code",
      "metadata": {
        "id": "jydCrnKaGuDi"
      },
      "source": [
        "X_train, X_test, y_train, y_test = train_test_split(X, y, test_size=0.3, stratify=y, random_state=27)"
      ],
      "execution_count": null,
      "outputs": []
    },
    {
      "cell_type": "code",
      "metadata": {
        "colab": {
          "base_uri": "https://localhost:8080/"
        },
        "id": "2xtOA0BAZaXN",
        "outputId": "16f28613-ec24-4225-988c-1a86b252f356"
      },
      "source": [
        "Counter(y_train)"
      ],
      "execution_count": null,
      "outputs": [
        {
          "output_type": "execute_result",
          "data": {
            "text/plain": [
              "Counter({0: 5574, 1: 1426})"
            ]
          },
          "metadata": {},
          "execution_count": 104
        }
      ]
    },
    {
      "cell_type": "markdown",
      "metadata": {
        "id": "0IfT2bS3qIrk"
      },
      "source": [
        "## **Balancing Dataset Train**"
      ]
    },
    {
      "cell_type": "code",
      "metadata": {
        "colab": {
          "base_uri": "https://localhost:8080/"
        },
        "id": "Ysuvd-h8m3Re",
        "outputId": "bc4bf14d-120b-4cf8-d86a-9f7ef30cae1c"
      },
      "source": [
        "from imblearn.under_sampling import RandomUnderSampler\n",
        "undersampling = RandomUnderSampler(sampling_strategy=0.8)\n",
        "X_train, y_train = undersampling.fit_resample(X_train,y_train)"
      ],
      "execution_count": null,
      "outputs": [
        {
          "output_type": "stream",
          "name": "stderr",
          "text": [
            "/usr/local/lib/python3.7/dist-packages/sklearn/utils/deprecation.py:87: FutureWarning: Function safe_indexing is deprecated; safe_indexing is deprecated in version 0.22 and will be removed in version 0.24.\n",
            "  warnings.warn(msg, category=FutureWarning)\n"
          ]
        }
      ]
    },
    {
      "cell_type": "code",
      "metadata": {
        "colab": {
          "base_uri": "https://localhost:8080/"
        },
        "id": "n_vOQxnj4bhG",
        "outputId": "0d35f4c0-be2f-4f18-975a-3ff554c493ac"
      },
      "source": [
        "Counter(y_train)"
      ],
      "execution_count": null,
      "outputs": [
        {
          "output_type": "execute_result",
          "data": {
            "text/plain": [
              "Counter({0: 1782, 1: 1426})"
            ]
          },
          "metadata": {},
          "execution_count": 106
        }
      ]
    },
    {
      "cell_type": "code",
      "metadata": {
        "id": "BQnPKLIyVtqB",
        "colab": {
          "base_uri": "https://localhost:8080/"
        },
        "outputId": "7630317b-01b0-483d-b209-0d2a02c4e126"
      },
      "source": [
        "from imblearn.over_sampling import SMOTE\n",
        "smote = SMOTE(sampling_strategy = 1)\n",
        "X_train, y_train = smote.fit_resample(X_train,y_train)"
      ],
      "execution_count": null,
      "outputs": [
        {
          "output_type": "stream",
          "name": "stderr",
          "text": [
            "/usr/local/lib/python3.7/dist-packages/sklearn/utils/deprecation.py:87: FutureWarning: Function safe_indexing is deprecated; safe_indexing is deprecated in version 0.22 and will be removed in version 0.24.\n",
            "  warnings.warn(msg, category=FutureWarning)\n"
          ]
        }
      ]
    },
    {
      "cell_type": "code",
      "metadata": {
        "colab": {
          "base_uri": "https://localhost:8080/"
        },
        "id": "qc7tDkIIexfq",
        "outputId": "8ea42c93-0d7a-4813-d409-64319b6a65a8"
      },
      "source": [
        "Counter(y_train)"
      ],
      "execution_count": null,
      "outputs": [
        {
          "output_type": "execute_result",
          "data": {
            "text/plain": [
              "Counter({0: 1782, 1: 1782})"
            ]
          },
          "metadata": {},
          "execution_count": 108
        }
      ]
    },
    {
      "cell_type": "code",
      "metadata": {
        "id": "35lGJHT8G1Lm"
      },
      "source": [
        "scaler = StandardScaler()\n",
        "X_train = scaler.fit_transform(X_train)\n",
        "X_test = scaler.transform(X_test)\n",
        "\n",
        "X_train = pd.DataFrame(X_train, columns=X.columns)\n",
        "X_test = pd.DataFrame(X_test, columns=X.columns)"
      ],
      "execution_count": null,
      "outputs": []
    },
    {
      "cell_type": "code",
      "metadata": {
        "colab": {
          "base_uri": "https://localhost:8080/",
          "height": 203
        },
        "id": "RqMTGiEjH_hV",
        "outputId": "b5eba13a-31a8-44d8-ae15-d64da05ff23d"
      },
      "source": [
        "X_train.head()"
      ],
      "execution_count": null,
      "outputs": [
        {
          "output_type": "execute_result",
          "data": {
            "text/html": [
              "<div>\n",
              "<style scoped>\n",
              "    .dataframe tbody tr th:only-of-type {\n",
              "        vertical-align: middle;\n",
              "    }\n",
              "\n",
              "    .dataframe tbody tr th {\n",
              "        vertical-align: top;\n",
              "    }\n",
              "\n",
              "    .dataframe thead th {\n",
              "        text-align: right;\n",
              "    }\n",
              "</style>\n",
              "<table border=\"1\" class=\"dataframe\">\n",
              "  <thead>\n",
              "    <tr style=\"text-align: right;\">\n",
              "      <th></th>\n",
              "      <th>Age</th>\n",
              "      <th>Tenure</th>\n",
              "      <th>Balance</th>\n",
              "      <th>NumOfProducts</th>\n",
              "      <th>HasCrCard</th>\n",
              "      <th>IsActiveMember</th>\n",
              "      <th>EstimatedSalary</th>\n",
              "      <th>mean_Age</th>\n",
              "      <th>mean_Balance</th>\n",
              "      <th>Gender_Male</th>\n",
              "    </tr>\n",
              "  </thead>\n",
              "  <tbody>\n",
              "    <tr>\n",
              "      <th>0</th>\n",
              "      <td>-0.671033</td>\n",
              "      <td>0.359252</td>\n",
              "      <td>0.476912</td>\n",
              "      <td>0.757760</td>\n",
              "      <td>0.65373</td>\n",
              "      <td>-0.917529</td>\n",
              "      <td>-0.263306</td>\n",
              "      <td>-0.187181</td>\n",
              "      <td>-0.684717</td>\n",
              "      <td>0.996965</td>\n",
              "    </tr>\n",
              "    <tr>\n",
              "      <th>1</th>\n",
              "      <td>-0.671033</td>\n",
              "      <td>-1.404312</td>\n",
              "      <td>-0.085645</td>\n",
              "      <td>-0.799446</td>\n",
              "      <td>0.65373</td>\n",
              "      <td>1.121433</td>\n",
              "      <td>-0.201107</td>\n",
              "      <td>-0.880313</td>\n",
              "      <td>-0.674479</td>\n",
              "      <td>0.996965</td>\n",
              "    </tr>\n",
              "    <tr>\n",
              "      <th>2</th>\n",
              "      <td>-0.195915</td>\n",
              "      <td>0.711965</td>\n",
              "      <td>-1.425542</td>\n",
              "      <td>-0.799446</td>\n",
              "      <td>0.65373</td>\n",
              "      <td>-0.917529</td>\n",
              "      <td>1.194990</td>\n",
              "      <td>1.422369</td>\n",
              "      <td>1.475275</td>\n",
              "      <td>0.996965</td>\n",
              "    </tr>\n",
              "    <tr>\n",
              "      <th>3</th>\n",
              "      <td>0.374228</td>\n",
              "      <td>1.417390</td>\n",
              "      <td>-0.918505</td>\n",
              "      <td>0.757760</td>\n",
              "      <td>0.65373</td>\n",
              "      <td>1.121433</td>\n",
              "      <td>-0.083519</td>\n",
              "      <td>-0.880313</td>\n",
              "      <td>-0.674479</td>\n",
              "      <td>0.996965</td>\n",
              "    </tr>\n",
              "    <tr>\n",
              "      <th>4</th>\n",
              "      <td>-1.241175</td>\n",
              "      <td>-1.051600</td>\n",
              "      <td>0.102005</td>\n",
              "      <td>-0.799446</td>\n",
              "      <td>0.65373</td>\n",
              "      <td>1.121433</td>\n",
              "      <td>-0.741124</td>\n",
              "      <td>-0.880313</td>\n",
              "      <td>-0.674479</td>\n",
              "      <td>0.996965</td>\n",
              "    </tr>\n",
              "  </tbody>\n",
              "</table>\n",
              "</div>"
            ],
            "text/plain": [
              "        Age    Tenure   Balance  ...  mean_Age  mean_Balance  Gender_Male\n",
              "0 -0.671033  0.359252  0.476912  ... -0.187181     -0.684717     0.996965\n",
              "1 -0.671033 -1.404312 -0.085645  ... -0.880313     -0.674479     0.996965\n",
              "2 -0.195915  0.711965 -1.425542  ...  1.422369      1.475275     0.996965\n",
              "3  0.374228  1.417390 -0.918505  ... -0.880313     -0.674479     0.996965\n",
              "4 -1.241175 -1.051600  0.102005  ... -0.880313     -0.674479     0.996965\n",
              "\n",
              "[5 rows x 10 columns]"
            ]
          },
          "metadata": {},
          "execution_count": 110
        }
      ]
    },
    {
      "cell_type": "markdown",
      "metadata": {
        "id": "u1C-tU34py3g"
      },
      "source": [
        "# **STAGE 5**"
      ]
    },
    {
      "cell_type": "markdown",
      "metadata": {
        "id": "988beiCsp1k6"
      },
      "source": [
        "## **Develope Model**"
      ]
    },
    {
      "cell_type": "markdown",
      "metadata": {
        "id": "m3cUpKnaZT8K"
      },
      "source": [
        "## **KNN**"
      ]
    },
    {
      "cell_type": "code",
      "metadata": {
        "colab": {
          "base_uri": "https://localhost:8080/"
        },
        "id": "uyroNjFVYX8S",
        "outputId": "cd50fe1a-1b3c-4912-bede-2523e0aefaf2"
      },
      "source": [
        "knn = KNeighborsClassifier(n_neighbors=13)\n",
        "knn.fit(X_train, y_train)"
      ],
      "execution_count": null,
      "outputs": [
        {
          "output_type": "execute_result",
          "data": {
            "text/plain": [
              "KNeighborsClassifier(algorithm='auto', leaf_size=30, metric='minkowski',\n",
              "                     metric_params=None, n_jobs=None, n_neighbors=13, p=2,\n",
              "                     weights='uniform')"
            ]
          },
          "metadata": {},
          "execution_count": 111
        }
      ]
    },
    {
      "cell_type": "code",
      "metadata": {
        "id": "vTQ6WausYacj"
      },
      "source": [
        "y_train_knn = knn.predict(X_train)\n",
        "y_test_knn = knn.predict(X_test)"
      ],
      "execution_count": null,
      "outputs": []
    },
    {
      "cell_type": "code",
      "metadata": {
        "colab": {
          "base_uri": "https://localhost:8080/"
        },
        "id": "erFjcmD4YdUD",
        "outputId": "67992526-97c5-4671-fe94-e1e40ca00ca6"
      },
      "source": [
        "classification_eval(y_train, y_train_knn, 'KNN Training Perf.')"
      ],
      "execution_count": null,
      "outputs": [
        {
          "output_type": "stream",
          "name": "stdout",
          "text": [
            "Evaluation Model: KNN Training Perf.\n",
            "[[1424  358]\n",
            " [ 403 1379]]\n",
            "Accuracy   : 78.65 %\n",
            "Precision  : 79.39 %\n",
            "Recall     : 77.38 %\n",
            "Specificity: 79.91 %\n",
            "NPV        : 77.94 %\n",
            "F-Score    : 78.37 %\n"
          ]
        }
      ]
    },
    {
      "cell_type": "code",
      "metadata": {
        "colab": {
          "base_uri": "https://localhost:8080/"
        },
        "id": "QzuEWtn6Yfq2",
        "outputId": "b39ed3e0-ed43-457b-9b72-c428a49fea6a"
      },
      "source": [
        "classification_eval(y_test, y_test_knn, 'KNN Testing Perf.')"
      ],
      "execution_count": null,
      "outputs": [
        {
          "output_type": "stream",
          "name": "stdout",
          "text": [
            "Evaluation Model: KNN Testing Perf.\n",
            "[[1827  562]\n",
            " [ 174  437]]\n",
            "Accuracy   : 75.47 %\n",
            "Precision  : 43.74 %\n",
            "Recall     : 71.52 %\n",
            "Specificity: 76.48 %\n",
            "NPV        : 91.3 %\n",
            "F-Score    : 54.28 %\n"
          ]
        }
      ]
    },
    {
      "cell_type": "code",
      "metadata": {
        "colab": {
          "base_uri": "https://localhost:8080/",
          "height": 295
        },
        "id": "f_9EP886Yq79",
        "outputId": "90adcbef-024a-4cfe-8ee3-2f6820e35554"
      },
      "source": [
        "cm = metrics.confusion_matrix(y_test, y_test_knn)\n",
        "\n",
        "ax= plt.subplot()\n",
        "sns.heatmap(cm, annot=True, fmt='', ax=ax, cmap='Blues')\n",
        "ax.set_xlabel('Predicted');ax.set_ylabel('Actual')\n",
        "ax.set_title('Confusion Matrix')\n",
        "plt.show()"
      ],
      "execution_count": null,
      "outputs": [
        {
          "output_type": "display_data",
          "data": {
            "image/png": "[encoded data removed]",
            "text/plain": [
              "<Figure size 432x288 with 2 Axes>"
            ]
          },
          "metadata": {
            "needs_background": "light"
          }
        }
      ]
    },
    {
      "cell_type": "markdown",
      "metadata": {
        "id": "RMRP3CyEq2Rx"
      },
      "source": [
        "## **Random Forest**"
      ]
    },
    {
      "cell_type": "code",
      "metadata": {
        "colab": {
          "base_uri": "https://localhost:8080/"
        },
        "id": "-JDTVcSuMQbn",
        "outputId": "b8d6a602-6b05-4b9c-ff36-ea33b4a47c1b"
      },
      "source": [
        "ranfor = RandomForestClassifier(max_depth=8,random_state=27)\n",
        "ranfor.fit(X_train, y_train)"
      ],
      "execution_count": null,
      "outputs": [
        {
          "output_type": "execute_result",
          "data": {
            "text/plain": [
              "RandomForestClassifier(bootstrap=True, ccp_alpha=0.0, class_weight=None,\n",
              "                       criterion='gini', max_depth=8, max_features='auto',\n",
              "                       max_leaf_nodes=None, max_samples=None,\n",
              "                       min_impurity_decrease=0.0, min_impurity_split=None,\n",
              "                       min_samples_leaf=1, min_samples_split=2,\n",
              "                       min_weight_fraction_leaf=0.0, n_estimators=100,\n",
              "                       n_jobs=None, oob_score=False, random_state=27, verbose=0,\n",
              "                       warm_start=False)"
            ]
          },
          "metadata": {},
          "execution_count": 116
        }
      ]
    },
    {
      "cell_type": "code",
      "metadata": {
        "id": "juoAvywUMid0"
      },
      "source": [
        "y_train_ranfor = ranfor.predict(X_train)\n",
        "y_test_ranfor = ranfor.predict(X_test)"
      ],
      "execution_count": null,
      "outputs": []
    },
    {
      "cell_type": "code",
      "metadata": {
        "colab": {
          "base_uri": "https://localhost:8080/"
        },
        "id": "Fv7PTdDYMkeQ",
        "outputId": "cdb40946-fc08-4d68-df9a-c0264b04ce64"
      },
      "source": [
        "classification_eval(y_train, y_train_ranfor, 'Ranfor Training Perf.')"
      ],
      "execution_count": null,
      "outputs": [
        {
          "output_type": "stream",
          "name": "stdout",
          "text": [
            "Evaluation Model: Ranfor Training Perf.\n",
            "[[1592  190]\n",
            " [ 299 1483]]\n",
            "Accuracy   : 86.28 %\n",
            "Precision  : 88.64 %\n",
            "Recall     : 83.22 %\n",
            "Specificity: 89.34 %\n",
            "NPV        : 84.19 %\n",
            "F-Score    : 85.84 %\n"
          ]
        }
      ]
    },
    {
      "cell_type": "code",
      "metadata": {
        "colab": {
          "base_uri": "https://localhost:8080/"
        },
        "id": "IKZteUWHMlFB",
        "outputId": "a01df8d1-b0fd-4f7a-be39-97952569961a"
      },
      "source": [
        "classification_eval(y_test, y_test_ranfor, 'Ranfor Testing Perf.')"
      ],
      "execution_count": null,
      "outputs": [
        {
          "output_type": "stream",
          "name": "stdout",
          "text": [
            "Evaluation Model: Ranfor Testing Perf.\n",
            "[[1981  408]\n",
            " [ 163  448]]\n",
            "Accuracy   : 80.97 %\n",
            "Precision  : 52.34 %\n",
            "Recall     : 73.32 %\n",
            "Specificity: 82.92 %\n",
            "NPV        : 92.4 %\n",
            "F-Score    : 61.08 %\n"
          ]
        }
      ]
    },
    {
      "cell_type": "code",
      "metadata": {
        "id": "pBKl5r3-q_mN",
        "colab": {
          "base_uri": "https://localhost:8080/",
          "height": 295
        },
        "outputId": "edd1e2ea-df0b-4a62-ee76-dca7fa2cefa1"
      },
      "source": [
        "cm = metrics.confusion_matrix(y_test, y_test_ranfor)\n",
        "\n",
        "ax= plt.subplot()\n",
        "sns.heatmap(cm, annot=True, fmt='', ax=ax, cmap='Blues')\n",
        "ax.set_xlabel('Predicted');ax.set_ylabel('Actual')\n",
        "ax.set_title('Confusion Matrix')\n",
        "plt.show()"
      ],
      "execution_count": null,
      "outputs": [
        {
          "output_type": "display_data",
          "data": {
            "image/png": "[encoded data removed]",
            "text/plain": [
              "<Figure size 432x288 with 2 Axes>"
            ]
          },
          "metadata": {
            "needs_background": "light"
          }
        }
      ]
    },
    {
      "cell_type": "markdown",
      "metadata": {
        "id": "cv3dFEyArEUa"
      },
      "source": [
        "## **XGBoost**"
      ]
    },
    {
      "cell_type": "code",
      "metadata": {
        "colab": {
          "base_uri": "https://localhost:8080/"
        },
        "id": "ztVjIjJKiC4x",
        "outputId": "0f9916e2-5b22-49c1-c9d0-529ca460216f"
      },
      "source": [
        "clf = xgb.XGBClassifier(max_depth=4)\n",
        "clf.fit(X_train, y_train)"
      ],
      "execution_count": null,
      "outputs": [
        {
          "output_type": "execute_result",
          "data": {
            "text/plain": [
              "XGBClassifier(base_score=0.5, booster='gbtree', colsample_bylevel=1,\n",
              "              colsample_bynode=1, colsample_bytree=1, gamma=0,\n",
              "              learning_rate=0.1, max_delta_step=0, max_depth=4,\n",
              "              min_child_weight=1, missing=None, n_estimators=100, n_jobs=1,\n",
              "              nthread=None, objective='binary:logistic', random_state=0,\n",
              "              reg_alpha=0, reg_lambda=1, scale_pos_weight=1, seed=None,\n",
              "              silent=None, subsample=1, verbosity=1)"
            ]
          },
          "metadata": {},
          "execution_count": 121
        }
      ]
    },
    {
      "cell_type": "code",
      "metadata": {
        "id": "8bRcXtJhiPfL"
      },
      "source": [
        "y_train_clf = clf.predict(X_train)\n",
        "y_test_clf = clf.predict(X_test)"
      ],
      "execution_count": null,
      "outputs": []
    },
    {
      "cell_type": "code",
      "metadata": {
        "colab": {
          "base_uri": "https://localhost:8080/"
        },
        "id": "kcJ9vHTliW2v",
        "outputId": "b9f8d563-30ae-4003-bbe1-9199f872f164"
      },
      "source": [
        "classification_eval(y_train, y_train_clf, 'XGBoost training perf')"
      ],
      "execution_count": null,
      "outputs": [
        {
          "output_type": "stream",
          "name": "stdout",
          "text": [
            "Evaluation Model: XGBoost training perf\n",
            "[[1563  219]\n",
            " [ 327 1455]]\n",
            "Accuracy   : 84.68 %\n",
            "Precision  : 86.92 %\n",
            "Recall     : 81.65 %\n",
            "Specificity: 87.71 %\n",
            "NPV        : 82.7 %\n",
            "F-Score    : 84.2 %\n"
          ]
        }
      ]
    },
    {
      "cell_type": "code",
      "metadata": {
        "colab": {
          "base_uri": "https://localhost:8080/"
        },
        "id": "ZDbCt7VSifm3",
        "outputId": "c5d7c92a-0a40-4eb9-e2bf-75947af50bf0"
      },
      "source": [
        "classification_eval(y_test, y_test_clf, 'XGBoost Testing Perf.')"
      ],
      "execution_count": null,
      "outputs": [
        {
          "output_type": "stream",
          "name": "stdout",
          "text": [
            "Evaluation Model: XGBoost Testing Perf.\n",
            "[[1993  396]\n",
            " [ 167  444]]\n",
            "Accuracy   : 81.23 %\n",
            "Precision  : 52.86 %\n",
            "Recall     : 72.67 %\n",
            "Specificity: 83.42 %\n",
            "NPV        : 92.27 %\n",
            "F-Score    : 61.2 %\n"
          ]
        }
      ]
    },
    {
      "cell_type": "code",
      "metadata": {
        "id": "MzXQWC4UrLqj",
        "colab": {
          "base_uri": "https://localhost:8080/",
          "height": 295
        },
        "outputId": "e5d2ce29-0448-40b1-9458-34bed822b897"
      },
      "source": [
        "cm = metrics.confusion_matrix(y_test, y_test_clf)\n",
        "\n",
        "ax= plt.subplot()\n",
        "sns.heatmap(cm, annot=True, fmt='', ax=ax, cmap='Blues')\n",
        "ax.set_xlabel('Predicted');ax.set_ylabel('Actual')\n",
        "ax.set_title('Confusion Matrix')\n",
        "plt.show()"
      ],
      "execution_count": null,
      "outputs": [
        {
          "output_type": "display_data",
          "data": {
            "image/png": "[encoded data removed]",
            "text/plain": [
              "<Figure size 432x288 with 2 Axes>"
            ]
          },
          "metadata": {
            "needs_background": "light"
          }
        }
      ]
    },
    {
      "cell_type": "markdown",
      "metadata": {
        "id": "9coqV7sHrQNS"
      },
      "source": [
        "## **Artifical Neural Network**"
      ]
    },
    {
      "cell_type": "code",
      "metadata": {
        "id": "kmfPEXd99Y6r"
      },
      "source": [
        "ann = tf.keras.models.Sequential()\n",
        "ann.add(tf.keras.layers.Dense(units=10, activation='relu'))\n",
        "ann.add(tf.keras.layers.Dropout(.25, input_shape=(10,)))\n",
        "ann.add(tf.keras.layers.Dense(units=10, activation='relu'))\n",
        "ann.add(tf.keras.layers.Dropout(.25, input_shape=(10,)))\n",
        "ann.add(tf.keras.layers.Dense(units=10, activation='relu'))\n",
        "ann.add(tf.keras.layers.Dropout(.25, input_shape=(10,)))\n",
        "ann.add(tf.keras.layers.Dense(units=1, activation='sigmoid'))"
      ],
      "execution_count": null,
      "outputs": []
    },
    {
      "cell_type": "code",
      "metadata": {
        "id": "j56OMrm39bEg"
      },
      "source": [
        "ann.compile(optimizer = 'adam', loss = 'binary_crossentropy', metrics = ['Recall'])"
      ],
      "execution_count": null,
      "outputs": []
    },
    {
      "cell_type": "code",
      "metadata": {
        "id": "cXhd217M9hsc",
        "colab": {
          "base_uri": "https://localhost:8080/"
        },
        "outputId": "e7bc5ff7-25ab-4177-eacd-16d66da8e0e3"
      },
      "source": [
        "ann.fit(X_train, y_train, batch_size = 100, epochs = 200)"
      ],
      "execution_count": null,
      "outputs": [
        {
          "output_type": "stream",
          "name": "stdout",
          "text": [
            "Epoch 1/200\n",
            "36/36 [==============================] - 1s 2ms/step - loss: 0.7153 - recall: 0.8019\n",
            "Epoch 2/200\n",
            "36/36 [==============================] - 0s 3ms/step - loss: 0.6881 - recall: 0.5842\n",
            "Epoch 3/200\n",
            "36/36 [==============================] - 0s 2ms/step - loss: 0.6783 - recall: 0.4877\n",
            "Epoch 4/200\n",
            "36/36 [==============================] - 0s 2ms/step - loss: 0.6736 - recall: 0.5191\n",
            "Epoch 5/200\n",
            "36/36 [==============================] - 0s 2ms/step - loss: 0.6690 - recall: 0.5236\n",
            "Epoch 6/200\n",
            "36/36 [==============================] - 0s 3ms/step - loss: 0.6589 - recall: 0.5253\n",
            "Epoch 7/200\n",
            "36/36 [==============================] - 0s 2ms/step - loss: 0.6551 - recall: 0.5887\n",
            "Epoch 8/200\n",
            "36/36 [==============================] - 0s 2ms/step - loss: 0.6407 - recall: 0.5875\n",
            "Epoch 9/200\n",
            "36/36 [==============================] - 0s 2ms/step - loss: 0.6408 - recall: 0.6246\n",
            "Epoch 10/200\n",
            "36/36 [==============================] - 0s 3ms/step - loss: 0.6350 - recall: 0.6437\n",
            "Epoch 11/200\n",
            "36/36 [==============================] - 0s 2ms/step - loss: 0.6208 - recall: 0.6599\n",
            "Epoch 12/200\n",
            "36/36 [==============================] - 0s 2ms/step - loss: 0.6188 - recall: 0.6773\n",
            "Epoch 13/200\n",
            "36/36 [==============================] - 0s 3ms/step - loss: 0.6247 - recall: 0.6813\n",
            "Epoch 14/200\n",
            "36/36 [==============================] - 0s 2ms/step - loss: 0.6121 - recall: 0.6723\n",
            "Epoch 15/200\n",
            "36/36 [==============================] - 0s 2ms/step - loss: 0.6173 - recall: 0.6734\n",
            "Epoch 16/200\n",
            "36/36 [==============================] - 0s 2ms/step - loss: 0.6022 - recall: 0.6779\n",
            "Epoch 17/200\n",
            "36/36 [==============================] - 0s 3ms/step - loss: 0.6023 - recall: 0.6958\n",
            "Epoch 18/200\n",
            "36/36 [==============================] - 0s 3ms/step - loss: 0.5914 - recall: 0.6829\n",
            "Epoch 19/200\n",
            "36/36 [==============================] - 0s 2ms/step - loss: 0.5983 - recall: 0.6655\n",
            "Epoch 20/200\n",
            "36/36 [==============================] - 0s 2ms/step - loss: 0.5799 - recall: 0.6756\n",
            "Epoch 21/200\n",
            "36/36 [==============================] - 0s 3ms/step - loss: 0.5811 - recall: 0.6841\n",
            "Epoch 22/200\n",
            "36/36 [==============================] - 0s 2ms/step - loss: 0.5807 - recall: 0.6599\n",
            "Epoch 23/200\n",
            "36/36 [==============================] - 0s 2ms/step - loss: 0.5696 - recall: 0.6936\n",
            "Epoch 24/200\n",
            "36/36 [==============================] - 0s 2ms/step - loss: 0.5755 - recall: 0.6869\n",
            "Epoch 25/200\n",
            "36/36 [==============================] - 0s 3ms/step - loss: 0.5736 - recall: 0.6964\n",
            "Epoch 26/200\n",
            "36/36 [==============================] - 0s 2ms/step - loss: 0.5715 - recall: 0.6886\n",
            "Epoch 27/200\n",
            "36/36 [==============================] - 0s 3ms/step - loss: 0.5701 - recall: 0.6785\n",
            "Epoch 28/200\n",
            "36/36 [==============================] - 0s 2ms/step - loss: 0.5678 - recall: 0.6992\n",
            "Epoch 29/200\n",
            "36/36 [==============================] - 0s 2ms/step - loss: 0.5691 - recall: 0.6852\n",
            "Epoch 30/200\n",
            "36/36 [==============================] - 0s 2ms/step - loss: 0.5613 - recall: 0.6925\n",
            "Epoch 31/200\n",
            "36/36 [==============================] - 0s 2ms/step - loss: 0.5672 - recall: 0.6908\n",
            "Epoch 32/200\n",
            "36/36 [==============================] - 0s 2ms/step - loss: 0.5638 - recall: 0.6919\n",
            "Epoch 33/200\n",
            "36/36 [==============================] - 0s 2ms/step - loss: 0.5583 - recall: 0.6925\n",
            "Epoch 34/200\n",
            "36/36 [==============================] - 0s 3ms/step - loss: 0.5538 - recall: 0.7065\n",
            "Epoch 35/200\n",
            "36/36 [==============================] - 0s 2ms/step - loss: 0.5467 - recall: 0.7138\n",
            "Epoch 36/200\n",
            "36/36 [==============================] - 0s 3ms/step - loss: 0.5552 - recall: 0.7127\n",
            "Epoch 37/200\n",
            "36/36 [==============================] - 0s 2ms/step - loss: 0.5469 - recall: 0.7127\n",
            "Epoch 38/200\n",
            "36/36 [==============================] - 0s 2ms/step - loss: 0.5484 - recall: 0.7228\n",
            "Epoch 39/200\n",
            "36/36 [==============================] - 0s 2ms/step - loss: 0.5586 - recall: 0.7020\n",
            "Epoch 40/200\n",
            "36/36 [==============================] - 0s 2ms/step - loss: 0.5459 - recall: 0.7127\n",
            "Epoch 41/200\n",
            "36/36 [==============================] - 0s 2ms/step - loss: 0.5446 - recall: 0.7104\n",
            "Epoch 42/200\n",
            "36/36 [==============================] - 0s 2ms/step - loss: 0.5503 - recall: 0.7054\n",
            "Epoch 43/200\n",
            "36/36 [==============================] - 0s 3ms/step - loss: 0.5468 - recall: 0.7217\n",
            "Epoch 44/200\n",
            "36/36 [==============================] - 0s 2ms/step - loss: 0.5440 - recall: 0.7323\n",
            "Epoch 45/200\n",
            "36/36 [==============================] - 0s 2ms/step - loss: 0.5316 - recall: 0.7357\n",
            "Epoch 46/200\n",
            "36/36 [==============================] - 0s 2ms/step - loss: 0.5493 - recall: 0.7071\n",
            "Epoch 47/200\n",
            "36/36 [==============================] - 0s 2ms/step - loss: 0.5465 - recall: 0.7391\n",
            "Epoch 48/200\n",
            "36/36 [==============================] - 0s 2ms/step - loss: 0.5366 - recall: 0.7374\n",
            "Epoch 49/200\n",
            "36/36 [==============================] - 0s 3ms/step - loss: 0.5383 - recall: 0.7441\n",
            "Epoch 50/200\n",
            "36/36 [==============================] - 0s 3ms/step - loss: 0.5451 - recall: 0.7413\n",
            "Epoch 51/200\n",
            "36/36 [==============================] - 0s 2ms/step - loss: 0.5306 - recall: 0.7379\n",
            "Epoch 52/200\n",
            "36/36 [==============================] - 0s 2ms/step - loss: 0.5268 - recall: 0.7475\n",
            "Epoch 53/200\n",
            "36/36 [==============================] - 0s 3ms/step - loss: 0.5326 - recall: 0.7424\n",
            "Epoch 54/200\n",
            "36/36 [==============================] - 0s 2ms/step - loss: 0.5250 - recall: 0.7441\n",
            "Epoch 55/200\n",
            "36/36 [==============================] - 0s 2ms/step - loss: 0.5232 - recall: 0.7452\n",
            "Epoch 56/200\n",
            "36/36 [==============================] - 0s 2ms/step - loss: 0.5291 - recall: 0.7402\n",
            "Epoch 57/200\n",
            "36/36 [==============================] - 0s 2ms/step - loss: 0.5295 - recall: 0.7497\n",
            "Epoch 58/200\n",
            "36/36 [==============================] - 0s 2ms/step - loss: 0.5321 - recall: 0.7396\n",
            "Epoch 59/200\n",
            "36/36 [==============================] - 0s 2ms/step - loss: 0.5356 - recall: 0.7318\n",
            "Epoch 60/200\n",
            "36/36 [==============================] - 0s 2ms/step - loss: 0.5287 - recall: 0.7452\n",
            "Epoch 61/200\n",
            "36/36 [==============================] - 0s 2ms/step - loss: 0.5225 - recall: 0.7576\n",
            "Epoch 62/200\n",
            "36/36 [==============================] - 0s 2ms/step - loss: 0.5213 - recall: 0.7581\n",
            "Epoch 63/200\n",
            "36/36 [==============================] - 0s 2ms/step - loss: 0.5240 - recall: 0.7469\n",
            "Epoch 64/200\n",
            "36/36 [==============================] - 0s 3ms/step - loss: 0.5234 - recall: 0.7677\n",
            "Epoch 65/200\n",
            "36/36 [==============================] - 0s 3ms/step - loss: 0.5191 - recall: 0.7492\n",
            "Epoch 66/200\n",
            "36/36 [==============================] - 0s 2ms/step - loss: 0.5214 - recall: 0.7570\n",
            "Epoch 67/200\n",
            "36/36 [==============================] - 0s 2ms/step - loss: 0.5211 - recall: 0.7492\n",
            "Epoch 68/200\n",
            "36/36 [==============================] - 0s 2ms/step - loss: 0.5179 - recall: 0.7508\n",
            "Epoch 69/200\n",
            "36/36 [==============================] - 0s 2ms/step - loss: 0.5253 - recall: 0.7486\n",
            "Epoch 70/200\n",
            "36/36 [==============================] - 0s 2ms/step - loss: 0.5246 - recall: 0.7649\n",
            "Epoch 71/200\n",
            "36/36 [==============================] - 0s 3ms/step - loss: 0.5197 - recall: 0.7621\n",
            "Epoch 72/200\n",
            "36/36 [==============================] - 0s 3ms/step - loss: 0.5247 - recall: 0.7621\n",
            "Epoch 73/200\n",
            "36/36 [==============================] - 0s 3ms/step - loss: 0.5195 - recall: 0.7615\n",
            "Epoch 74/200\n",
            "36/36 [==============================] - 0s 3ms/step - loss: 0.5197 - recall: 0.7402\n",
            "Epoch 75/200\n",
            "36/36 [==============================] - 0s 3ms/step - loss: 0.5208 - recall: 0.7458\n",
            "Epoch 76/200\n",
            "36/36 [==============================] - 0s 3ms/step - loss: 0.5231 - recall: 0.7486\n",
            "Epoch 77/200\n",
            "36/36 [==============================] - 0s 3ms/step - loss: 0.5251 - recall: 0.7626\n",
            "Epoch 78/200\n",
            "36/36 [==============================] - 0s 3ms/step - loss: 0.5136 - recall: 0.7497\n",
            "Epoch 79/200\n",
            "36/36 [==============================] - 0s 3ms/step - loss: 0.5128 - recall: 0.7604\n",
            "Epoch 80/200\n",
            "36/36 [==============================] - 0s 3ms/step - loss: 0.5136 - recall: 0.7587\n",
            "Epoch 81/200\n",
            "36/36 [==============================] - 0s 3ms/step - loss: 0.5195 - recall: 0.7654\n",
            "Epoch 82/200\n",
            "36/36 [==============================] - 0s 2ms/step - loss: 0.5164 - recall: 0.7548\n",
            "Epoch 83/200\n",
            "36/36 [==============================] - 0s 2ms/step - loss: 0.5152 - recall: 0.7520\n",
            "Epoch 84/200\n",
            "36/36 [==============================] - 0s 4ms/step - loss: 0.5281 - recall: 0.7503\n",
            "Epoch 85/200\n",
            "36/36 [==============================] - 0s 3ms/step - loss: 0.5088 - recall: 0.7621\n",
            "Epoch 86/200\n",
            "36/36 [==============================] - 0s 3ms/step - loss: 0.5111 - recall: 0.7548\n",
            "Epoch 87/200\n",
            "36/36 [==============================] - 0s 2ms/step - loss: 0.5190 - recall: 0.7492\n",
            "Epoch 88/200\n",
            "36/36 [==============================] - 0s 3ms/step - loss: 0.5088 - recall: 0.7632\n",
            "Epoch 89/200\n",
            "36/36 [==============================] - 0s 2ms/step - loss: 0.5125 - recall: 0.7621\n",
            "Epoch 90/200\n",
            "36/36 [==============================] - 0s 3ms/step - loss: 0.5061 - recall: 0.7514\n",
            "Epoch 91/200\n",
            "36/36 [==============================] - 0s 3ms/step - loss: 0.5088 - recall: 0.7722\n",
            "Epoch 92/200\n",
            "36/36 [==============================] - 0s 2ms/step - loss: 0.5104 - recall: 0.7694\n",
            "Epoch 93/200\n",
            "36/36 [==============================] - 0s 3ms/step - loss: 0.5157 - recall: 0.7553\n",
            "Epoch 94/200\n",
            "36/36 [==============================] - 0s 2ms/step - loss: 0.5100 - recall: 0.7593\n",
            "Epoch 95/200\n",
            "36/36 [==============================] - 0s 2ms/step - loss: 0.5144 - recall: 0.7654\n",
            "Epoch 96/200\n",
            "36/36 [==============================] - 0s 2ms/step - loss: 0.5134 - recall: 0.7626\n",
            "Epoch 97/200\n",
            "36/36 [==============================] - 0s 3ms/step - loss: 0.5117 - recall: 0.7688\n",
            "Epoch 98/200\n",
            "36/36 [==============================] - 0s 3ms/step - loss: 0.5108 - recall: 0.7531\n",
            "Epoch 99/200\n",
            "36/36 [==============================] - 0s 3ms/step - loss: 0.5103 - recall: 0.7660\n",
            "Epoch 100/200\n",
            "36/36 [==============================] - 0s 3ms/step - loss: 0.5013 - recall: 0.7671\n",
            "Epoch 101/200\n",
            "36/36 [==============================] - 0s 2ms/step - loss: 0.5119 - recall: 0.7660\n",
            "Epoch 102/200\n",
            "36/36 [==============================] - 0s 3ms/step - loss: 0.5032 - recall: 0.7795\n",
            "Epoch 103/200\n",
            "36/36 [==============================] - 0s 3ms/step - loss: 0.5102 - recall: 0.7447\n",
            "Epoch 104/200\n",
            "36/36 [==============================] - 0s 3ms/step - loss: 0.5106 - recall: 0.7660\n",
            "Epoch 105/200\n",
            "36/36 [==============================] - 0s 2ms/step - loss: 0.5097 - recall: 0.7727\n",
            "Epoch 106/200\n",
            "36/36 [==============================] - 0s 2ms/step - loss: 0.5036 - recall: 0.7660\n",
            "Epoch 107/200\n",
            "36/36 [==============================] - 0s 3ms/step - loss: 0.5081 - recall: 0.7677\n",
            "Epoch 108/200\n",
            "36/36 [==============================] - 0s 3ms/step - loss: 0.5091 - recall: 0.7716\n",
            "Epoch 109/200\n",
            "36/36 [==============================] - 0s 2ms/step - loss: 0.5009 - recall: 0.7789\n",
            "Epoch 110/200\n",
            "36/36 [==============================] - 0s 2ms/step - loss: 0.4936 - recall: 0.7811\n",
            "Epoch 111/200\n",
            "36/36 [==============================] - 0s 2ms/step - loss: 0.5008 - recall: 0.7727\n",
            "Epoch 112/200\n",
            "36/36 [==============================] - 0s 2ms/step - loss: 0.5033 - recall: 0.7553\n",
            "Epoch 113/200\n",
            "36/36 [==============================] - 0s 3ms/step - loss: 0.5016 - recall: 0.7666\n",
            "Epoch 114/200\n",
            "36/36 [==============================] - 0s 3ms/step - loss: 0.5044 - recall: 0.7615\n",
            "Epoch 115/200\n",
            "36/36 [==============================] - 0s 3ms/step - loss: 0.5118 - recall: 0.7699\n",
            "Epoch 116/200\n",
            "36/36 [==============================] - 0s 3ms/step - loss: 0.4976 - recall: 0.7649\n",
            "Epoch 117/200\n",
            "36/36 [==============================] - 0s 3ms/step - loss: 0.5102 - recall: 0.7733\n",
            "Epoch 118/200\n",
            "36/36 [==============================] - 0s 2ms/step - loss: 0.5092 - recall: 0.7688\n",
            "Epoch 119/200\n",
            "36/36 [==============================] - 0s 2ms/step - loss: 0.5134 - recall: 0.7660\n",
            "Epoch 120/200\n",
            "36/36 [==============================] - 0s 2ms/step - loss: 0.5075 - recall: 0.7716\n",
            "Epoch 121/200\n",
            "36/36 [==============================] - 0s 2ms/step - loss: 0.5094 - recall: 0.7750\n",
            "Epoch 122/200\n",
            "36/36 [==============================] - 0s 3ms/step - loss: 0.5123 - recall: 0.7677\n",
            "Epoch 123/200\n",
            "36/36 [==============================] - 0s 3ms/step - loss: 0.5033 - recall: 0.7716\n",
            "Epoch 124/200\n",
            "36/36 [==============================] - 0s 2ms/step - loss: 0.5066 - recall: 0.7536\n",
            "Epoch 125/200\n",
            "36/36 [==============================] - 0s 3ms/step - loss: 0.5064 - recall: 0.7643\n",
            "Epoch 126/200\n",
            "36/36 [==============================] - 0s 3ms/step - loss: 0.5071 - recall: 0.7738\n",
            "Epoch 127/200\n",
            "36/36 [==============================] - 0s 3ms/step - loss: 0.5015 - recall: 0.7660\n",
            "Epoch 128/200\n",
            "36/36 [==============================] - 0s 2ms/step - loss: 0.4997 - recall: 0.7677\n",
            "Epoch 129/200\n",
            "36/36 [==============================] - 0s 2ms/step - loss: 0.5026 - recall: 0.7817\n",
            "Epoch 130/200\n",
            "36/36 [==============================] - 0s 2ms/step - loss: 0.4979 - recall: 0.7783\n",
            "Epoch 131/200\n",
            "36/36 [==============================] - 0s 2ms/step - loss: 0.5031 - recall: 0.7609\n",
            "Epoch 132/200\n",
            "36/36 [==============================] - 0s 2ms/step - loss: 0.5022 - recall: 0.7677\n",
            "Epoch 133/200\n",
            "36/36 [==============================] - 0s 2ms/step - loss: 0.5069 - recall: 0.7593\n",
            "Epoch 134/200\n",
            "36/36 [==============================] - 0s 3ms/step - loss: 0.5057 - recall: 0.7643\n",
            "Epoch 135/200\n",
            "36/36 [==============================] - 0s 3ms/step - loss: 0.5053 - recall: 0.7727\n",
            "Epoch 136/200\n",
            "36/36 [==============================] - 0s 2ms/step - loss: 0.5061 - recall: 0.7559\n",
            "Epoch 137/200\n",
            "36/36 [==============================] - 0s 2ms/step - loss: 0.4978 - recall: 0.7761\n",
            "Epoch 138/200\n",
            "36/36 [==============================] - 0s 2ms/step - loss: 0.5009 - recall: 0.7643\n",
            "Epoch 139/200\n",
            "36/36 [==============================] - 0s 2ms/step - loss: 0.5042 - recall: 0.7654\n",
            "Epoch 140/200\n",
            "36/36 [==============================] - 0s 3ms/step - loss: 0.4940 - recall: 0.7727\n",
            "Epoch 141/200\n",
            "36/36 [==============================] - 0s 2ms/step - loss: 0.5061 - recall: 0.7609\n",
            "Epoch 142/200\n",
            "36/36 [==============================] - 0s 3ms/step - loss: 0.4954 - recall: 0.7722\n",
            "Epoch 143/200\n",
            "36/36 [==============================] - 0s 2ms/step - loss: 0.5009 - recall: 0.7738\n",
            "Epoch 144/200\n",
            "36/36 [==============================] - 0s 3ms/step - loss: 0.4988 - recall: 0.7621\n",
            "Epoch 145/200\n",
            "36/36 [==============================] - 0s 3ms/step - loss: 0.5049 - recall: 0.7744\n",
            "Epoch 146/200\n",
            "36/36 [==============================] - 0s 3ms/step - loss: 0.5028 - recall: 0.7604\n",
            "Epoch 147/200\n",
            "36/36 [==============================] - 0s 3ms/step - loss: 0.4927 - recall: 0.7738\n",
            "Epoch 148/200\n",
            "36/36 [==============================] - 0s 3ms/step - loss: 0.4978 - recall: 0.7733\n",
            "Epoch 149/200\n",
            "36/36 [==============================] - 0s 3ms/step - loss: 0.5024 - recall: 0.7795\n",
            "Epoch 150/200\n",
            "36/36 [==============================] - 0s 2ms/step - loss: 0.5014 - recall: 0.7660\n",
            "Epoch 151/200\n",
            "36/36 [==============================] - 0s 3ms/step - loss: 0.5016 - recall: 0.7716\n",
            "Epoch 152/200\n",
            "36/36 [==============================] - 0s 3ms/step - loss: 0.5016 - recall: 0.7750\n",
            "Epoch 153/200\n",
            "36/36 [==============================] - 0s 3ms/step - loss: 0.4913 - recall: 0.7632\n",
            "Epoch 154/200\n",
            "36/36 [==============================] - 0s 3ms/step - loss: 0.4991 - recall: 0.7817\n",
            "Epoch 155/200\n",
            "36/36 [==============================] - 0s 3ms/step - loss: 0.5016 - recall: 0.7716\n",
            "Epoch 156/200\n",
            "36/36 [==============================] - 0s 3ms/step - loss: 0.5019 - recall: 0.7778\n",
            "Epoch 157/200\n",
            "36/36 [==============================] - 0s 3ms/step - loss: 0.5017 - recall: 0.7660\n",
            "Epoch 158/200\n",
            "36/36 [==============================] - 0s 3ms/step - loss: 0.5053 - recall: 0.7778\n",
            "Epoch 159/200\n",
            "36/36 [==============================] - 0s 2ms/step - loss: 0.4936 - recall: 0.7795\n",
            "Epoch 160/200\n",
            "36/36 [==============================] - 0s 3ms/step - loss: 0.4956 - recall: 0.7716\n",
            "Epoch 161/200\n",
            "36/36 [==============================] - 0s 2ms/step - loss: 0.4982 - recall: 0.7834\n",
            "Epoch 162/200\n",
            "36/36 [==============================] - 0s 3ms/step - loss: 0.5013 - recall: 0.7750\n",
            "Epoch 163/200\n",
            "36/36 [==============================] - 0s 3ms/step - loss: 0.4926 - recall: 0.7783\n",
            "Epoch 164/200\n",
            "36/36 [==============================] - 0s 2ms/step - loss: 0.5063 - recall: 0.7699\n",
            "Epoch 165/200\n",
            "36/36 [==============================] - 0s 3ms/step - loss: 0.4892 - recall: 0.7783\n",
            "Epoch 166/200\n",
            "36/36 [==============================] - 0s 3ms/step - loss: 0.5003 - recall: 0.7649\n",
            "Epoch 167/200\n",
            "36/36 [==============================] - 0s 2ms/step - loss: 0.5051 - recall: 0.7722\n",
            "Epoch 168/200\n",
            "36/36 [==============================] - 0s 3ms/step - loss: 0.4993 - recall: 0.7722\n",
            "Epoch 169/200\n",
            "36/36 [==============================] - 0s 2ms/step - loss: 0.4991 - recall: 0.7761\n",
            "Epoch 170/200\n",
            "36/36 [==============================] - 0s 2ms/step - loss: 0.4983 - recall: 0.7688\n",
            "Epoch 171/200\n",
            "36/36 [==============================] - 0s 2ms/step - loss: 0.4963 - recall: 0.7716\n",
            "Epoch 172/200\n",
            "36/36 [==============================] - 0s 2ms/step - loss: 0.4917 - recall: 0.7750\n",
            "Epoch 173/200\n",
            "36/36 [==============================] - 0s 2ms/step - loss: 0.4998 - recall: 0.7671\n",
            "Epoch 174/200\n",
            "36/36 [==============================] - 0s 3ms/step - loss: 0.4907 - recall: 0.7845\n",
            "Epoch 175/200\n",
            "36/36 [==============================] - 0s 2ms/step - loss: 0.4944 - recall: 0.7699\n",
            "Epoch 176/200\n",
            "36/36 [==============================] - 0s 2ms/step - loss: 0.4923 - recall: 0.7800\n",
            "Epoch 177/200\n",
            "36/36 [==============================] - 0s 2ms/step - loss: 0.5005 - recall: 0.7738\n",
            "Epoch 178/200\n",
            "36/36 [==============================] - 0s 3ms/step - loss: 0.4966 - recall: 0.7783\n",
            "Epoch 179/200\n",
            "36/36 [==============================] - 0s 3ms/step - loss: 0.4968 - recall: 0.7783\n",
            "Epoch 180/200\n",
            "36/36 [==============================] - 0s 2ms/step - loss: 0.4957 - recall: 0.7660\n",
            "Epoch 181/200\n",
            "36/36 [==============================] - 0s 2ms/step - loss: 0.5001 - recall: 0.7666\n",
            "Epoch 182/200\n",
            "36/36 [==============================] - 0s 2ms/step - loss: 0.4935 - recall: 0.7738\n",
            "Epoch 183/200\n",
            "36/36 [==============================] - 0s 3ms/step - loss: 0.5013 - recall: 0.7671\n",
            "Epoch 184/200\n",
            "36/36 [==============================] - 0s 2ms/step - loss: 0.4874 - recall: 0.7845\n",
            "Epoch 185/200\n",
            "36/36 [==============================] - 0s 3ms/step - loss: 0.5003 - recall: 0.7727\n",
            "Epoch 186/200\n",
            "36/36 [==============================] - 0s 2ms/step - loss: 0.4913 - recall: 0.7750\n",
            "Epoch 187/200\n",
            "36/36 [==============================] - 0s 2ms/step - loss: 0.4979 - recall: 0.7811\n",
            "Epoch 188/200\n",
            "36/36 [==============================] - 0s 2ms/step - loss: 0.5000 - recall: 0.7576\n",
            "Epoch 189/200\n",
            "36/36 [==============================] - 0s 2ms/step - loss: 0.4935 - recall: 0.7772\n",
            "Epoch 190/200\n",
            "36/36 [==============================] - 0s 3ms/step - loss: 0.4901 - recall: 0.7750\n",
            "Epoch 191/200\n",
            "36/36 [==============================] - 0s 3ms/step - loss: 0.4968 - recall: 0.7800\n",
            "Epoch 192/200\n",
            "36/36 [==============================] - 0s 3ms/step - loss: 0.4948 - recall: 0.7834\n",
            "Epoch 193/200\n",
            "36/36 [==============================] - 0s 3ms/step - loss: 0.4970 - recall: 0.7811\n",
            "Epoch 194/200\n",
            "36/36 [==============================] - 0s 3ms/step - loss: 0.4951 - recall: 0.7649\n",
            "Epoch 195/200\n",
            "36/36 [==============================] - 0s 2ms/step - loss: 0.5031 - recall: 0.7761\n",
            "Epoch 196/200\n",
            "36/36 [==============================] - 0s 3ms/step - loss: 0.5014 - recall: 0.7615\n",
            "Epoch 197/200\n",
            "36/36 [==============================] - 0s 3ms/step - loss: 0.4966 - recall: 0.7682\n",
            "Epoch 198/200\n",
            "36/36 [==============================] - 0s 3ms/step - loss: 0.4948 - recall: 0.7806\n",
            "Epoch 199/200\n",
            "36/36 [==============================] - 0s 2ms/step - loss: 0.5013 - recall: 0.7722\n",
            "Epoch 200/200\n",
            "36/36 [==============================] - 0s 3ms/step - loss: 0.4995 - recall: 0.7688\n"
          ]
        },
        {
          "output_type": "execute_result",
          "data": {
            "text/plain": [
              "<keras.callbacks.History at 0x7f453a966510>"
            ]
          },
          "metadata": {},
          "execution_count": 128
        }
      ]
    },
    {
      "cell_type": "code",
      "metadata": {
        "id": "Yc7FD7en9tjr"
      },
      "source": [
        "y_train_ann = ann.predict(X_train)\n",
        "y_train_ann = [0 if i < 0.5 else 1 for i in y_train_ann]\n",
        "\n",
        "compare = pd.DataFrame(np.array(y_train), columns=['Actual'])\n",
        "compare['Predicted'] = y_train_ann"
      ],
      "execution_count": null,
      "outputs": []
    },
    {
      "cell_type": "code",
      "metadata": {
        "id": "1BAw882a9ylu"
      },
      "source": [
        "y_test_ann = ann.predict(X_test)\n",
        "y_test_ann = [0 if i < 0.5 else 1 for i in y_test_ann]\n",
        "\n",
        "compare = pd.DataFrame(np.array(y_test), columns=['Actual'])\n",
        "compare['Predicted'] = y_test_ann"
      ],
      "execution_count": null,
      "outputs": []
    },
    {
      "cell_type": "code",
      "metadata": {
        "colab": {
          "base_uri": "https://localhost:8080/"
        },
        "id": "ty0ioGA194J9",
        "outputId": "d6dcbf07-1267-4da5-e669-cd89f4dad1ed"
      },
      "source": [
        "# Training Performance\n",
        "classification_eval(y_train, y_train_ann, 'ANN Training Perf.')"
      ],
      "execution_count": null,
      "outputs": [
        {
          "output_type": "stream",
          "name": "stdout",
          "text": [
            "Evaluation Model: ANN Training Perf.\n",
            "[[1373  409]\n",
            " [ 332 1450]]\n",
            "Accuracy   : 79.21 %\n",
            "Precision  : 78.0 %\n",
            "Recall     : 81.37 %\n",
            "Specificity: 77.05 %\n",
            "NPV        : 80.53 %\n",
            "F-Score    : 79.65 %\n"
          ]
        }
      ]
    },
    {
      "cell_type": "code",
      "metadata": {
        "colab": {
          "base_uri": "https://localhost:8080/"
        },
        "id": "BE4fI9vY98RL",
        "outputId": "084869eb-5f29-4674-addb-692a85c010ce"
      },
      "source": [
        "# Testing Performance\n",
        "classification_eval(y_test, y_test_ann, 'ANN Testing Perf.')"
      ],
      "execution_count": null,
      "outputs": [
        {
          "output_type": "stream",
          "name": "stdout",
          "text": [
            "Evaluation Model: ANN Testing Perf.\n",
            "[[1799  590]\n",
            " [ 126  485]]\n",
            "Accuracy   : 76.13 %\n",
            "Precision  : 45.12 %\n",
            "Recall     : 79.38 %\n",
            "Specificity: 75.3 %\n",
            "NPV        : 93.45 %\n",
            "F-Score    : 57.54 %\n"
          ]
        }
      ]
    },
    {
      "cell_type": "code",
      "metadata": {
        "colab": {
          "base_uri": "https://localhost:8080/",
          "height": 295
        },
        "id": "empq6i3lrYaa",
        "outputId": "64b5b15b-578c-4159-8272-d5aa7c81f4d3"
      },
      "source": [
        "cm = metrics.confusion_matrix(y_test, y_test_ann)\n",
        "\n",
        "ax= plt.subplot()\n",
        "sns.heatmap(cm, annot=True, fmt='', ax=ax, cmap='Blues')\n",
        "ax.set_xlabel('Predicted');ax.set_ylabel('Actual')\n",
        "ax.set_title('Confusion Matrix')\n",
        "plt.show()"
      ],
      "execution_count": null,
      "outputs": [
        {
          "output_type": "display_data",
          "data": {
            "image/png": "[encoded data removed]",
            "text/plain": [
              "<Figure size 432x288 with 2 Axes>"
            ]
          },
          "metadata": {
            "needs_background": "light"
          }
        }
      ]
    },
    {
      "cell_type": "markdown",
      "metadata": {
        "id": "aAKAuSierab7"
      },
      "source": [
        "## **Permutation Importance**"
      ]
    },
    {
      "cell_type": "code",
      "metadata": {
        "colab": {
          "base_uri": "https://localhost:8080/"
        },
        "id": "JSbzoNkceyal",
        "outputId": "16185c4f-b480-4f86-cee4-7a3be21596a3"
      },
      "source": [
        "!pip install eli5"
      ],
      "execution_count": null,
      "outputs": [
        {
          "output_type": "stream",
          "name": "stdout",
          "text": [
            "Collecting eli5\n",
            "  Downloading eli5-0.11.0-py2.py3-none-any.whl (106 kB)\n",
            "\u001b[?25l\r\u001b[K     |███                             | 10 kB 20.5 MB/s eta 0:00:01\r\u001b[K     |██████▏                         | 20 kB 7.9 MB/s eta 0:00:01\r\u001b[K     |█████████▎                      | 30 kB 5.5 MB/s eta 0:00:01\r\u001b[K     |████████████▍                   | 40 kB 5.2 MB/s eta 0:00:01\r\u001b[K     |███████████████▌                | 51 kB 2.6 MB/s eta 0:00:01\r\u001b[K     |██████████████████▌             | 61 kB 2.9 MB/s eta 0:00:01\r\u001b[K     |█████████████████████▋          | 71 kB 2.9 MB/s eta 0:00:01\r\u001b[K     |████████████████████████▊       | 81 kB 3.2 MB/s eta 0:00:01\r\u001b[K     |███████████████████████████▉    | 92 kB 3.4 MB/s eta 0:00:01\r\u001b[K     |███████████████████████████████ | 102 kB 2.8 MB/s eta 0:00:01\r\u001b[K     |████████████████████████████████| 106 kB 2.8 MB/s \n",
            "\u001b[?25hRequirement already satisfied: six in /usr/local/lib/python3.7/dist-packages (from eli5) (1.15.0)\n",
            "Requirement already satisfied: jinja2 in /usr/local/lib/python3.7/dist-packages (from eli5) (2.11.3)\n",
            "Requirement already satisfied: scipy in /usr/local/lib/python3.7/dist-packages (from eli5) (1.4.1)\n",
            "Requirement already satisfied: tabulate>=0.7.7 in /usr/local/lib/python3.7/dist-packages (from eli5) (0.8.9)\n",
            "Requirement already satisfied: scikit-learn>=0.20 in /usr/local/lib/python3.7/dist-packages (from eli5) (0.22.2.post1)\n",
            "Requirement already satisfied: numpy>=1.9.0 in /usr/local/lib/python3.7/dist-packages (from eli5) (1.19.5)\n",
            "Requirement already satisfied: graphviz in /usr/local/lib/python3.7/dist-packages (from eli5) (0.10.1)\n",
            "Requirement already satisfied: attrs>16.0.0 in /usr/local/lib/python3.7/dist-packages (from eli5) (21.2.0)\n",
            "Requirement already satisfied: joblib>=0.11 in /usr/local/lib/python3.7/dist-packages (from scikit-learn>=0.20->eli5) (1.0.1)\n",
            "Requirement already satisfied: MarkupSafe>=0.23 in /usr/local/lib/python3.7/dist-packages (from jinja2->eli5) (2.0.1)\n",
            "Installing collected packages: eli5\n",
            "Successfully installed eli5-0.11.0\n"
          ]
        }
      ]
    },
    {
      "cell_type": "code",
      "metadata": {
        "colab": {
          "base_uri": "https://localhost:8080/",
          "height": 281
        },
        "id": "ldBWrihr_LUz",
        "outputId": "73a3b7ce-1735-4983-b449-22943089fe3d"
      },
      "source": [
        "import eli5\n",
        "from eli5.sklearn import PermutationImportance\n",
        "\n",
        "perm = PermutationImportance(estimator=ann,scoring='r2', n_iter=5, random_state=27)\n",
        "perm.fit (X_test, y_test)\n",
        "columns= X_test.columns.to_list()\n",
        "feature_importance = perm.feature_importances_\n",
        "fimportance = pd.Series(feature_importance, columns).sort_values(ascending=False)\n",
        "\n",
        "fimportance.sort_values(ascending=True).plot(kind='barh')\n",
        "plt.title('Feature Importances')\n",
        "plt.show()"
      ],
      "execution_count": null,
      "outputs": [
        {
          "output_type": "display_data",
          "data": {
            "image/png": "[encoded data removed]",
            "text/plain": [
              "<Figure size 432x288 with 1 Axes>"
            ]
          },
          "metadata": {
            "needs_background": "light"
          }
        }
      ]
    }
  ]
}